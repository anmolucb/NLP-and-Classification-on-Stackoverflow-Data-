{
 "cells": [
  {
   "cell_type": "markdown",
   "id": "4de5a227",
   "metadata": {},
   "source": [
    "### Anmol Gupta"
   ]
  },
  {
   "cell_type": "code",
   "execution_count": 1,
   "id": "8974ae6d",
   "metadata": {},
   "outputs": [],
   "source": [
    "#conda install beautifulsoup4"
   ]
  },
  {
   "cell_type": "markdown",
   "id": "48e024f9",
   "metadata": {},
   "source": [
    "### Part a "
   ]
  },
  {
   "cell_type": "markdown",
   "id": "2714d76b",
   "metadata": {},
   "source": [
    "### (i)"
   ]
  },
  {
   "cell_type": "code",
   "execution_count": 2,
   "id": "9d7c1fee",
   "metadata": {},
   "outputs": [],
   "source": [
    "from bs4 import BeautifulSoup"
   ]
  },
  {
   "cell_type": "code",
   "execution_count": 3,
   "id": "d23a9122",
   "metadata": {
    "scrolled": true
   },
   "outputs": [
    {
     "data": {
      "text/html": [
       "<div>\n",
       "<style scoped>\n",
       "    .dataframe tbody tr th:only-of-type {\n",
       "        vertical-align: middle;\n",
       "    }\n",
       "\n",
       "    .dataframe tbody tr th {\n",
       "        vertical-align: top;\n",
       "    }\n",
       "\n",
       "    .dataframe thead th {\n",
       "        text-align: right;\n",
       "    }\n",
       "</style>\n",
       "<table border=\"1\" class=\"dataframe\">\n",
       "  <thead>\n",
       "    <tr style=\"text-align: right;\">\n",
       "      <th></th>\n",
       "      <th>Id</th>\n",
       "      <th>Score</th>\n",
       "      <th>Body</th>\n",
       "      <th>Title</th>\n",
       "      <th>Tags</th>\n",
       "    </tr>\n",
       "  </thead>\n",
       "  <tbody>\n",
       "    <tr>\n",
       "      <th>0</th>\n",
       "      <td>495560</td>\n",
       "      <td>1</td>\n",
       "      <td>&lt;p&gt;I have a set of data that I am transforming...</td>\n",
       "      <td>R: emmeans back tranform clr data using clrInv</td>\n",
       "      <td>&lt;r&gt;&lt;mixed-model&gt;&lt;linear&gt;&lt;lsmeans&gt;</td>\n",
       "    </tr>\n",
       "    <tr>\n",
       "      <th>1</th>\n",
       "      <td>489896</td>\n",
       "      <td>0</td>\n",
       "      <td>&lt;p&gt;We are sending a one bit message to someone...</td>\n",
       "      <td>Trying to determine the failure rate of redund...</td>\n",
       "      <td>&lt;probability&gt;&lt;python&gt;</td>\n",
       "    </tr>\n",
       "    <tr>\n",
       "      <th>2</th>\n",
       "      <td>497951</td>\n",
       "      <td>2</td>\n",
       "      <td>&lt;p&gt;I am aware that there is a similar post: &lt;a...</td>\n",
       "      <td>How to derive categorical cross entropy update...</td>\n",
       "      <td>&lt;logistic&gt;&lt;cross-entropy&gt;</td>\n",
       "    </tr>\n",
       "    <tr>\n",
       "      <th>3</th>\n",
       "      <td>478542</td>\n",
       "      <td>2</td>\n",
       "      <td>&lt;p&gt;I have a Poisson distributed glm where I ha...</td>\n",
       "      <td>Learning more about glm parameters, how to dig...</td>\n",
       "      <td>&lt;generalized-linear-model&gt;&lt;interpretation&gt;</td>\n",
       "    </tr>\n",
       "    <tr>\n",
       "      <th>4</th>\n",
       "      <td>458388</td>\n",
       "      <td>0</td>\n",
       "      <td>&lt;p&gt;1) how do i decide which transformation or ...</td>\n",
       "      <td>Is there I guide to decide which transformatio...</td>\n",
       "      <td>&lt;python&gt;&lt;data-transformation&gt;&lt;dataset&gt;&lt;feature...</td>\n",
       "    </tr>\n",
       "  </tbody>\n",
       "</table>\n",
       "</div>"
      ],
      "text/plain": [
       "       Id  Score                                               Body  \\\n",
       "0  495560      1  <p>I have a set of data that I am transforming...   \n",
       "1  489896      0  <p>We are sending a one bit message to someone...   \n",
       "2  497951      2  <p>I am aware that there is a similar post: <a...   \n",
       "3  478542      2  <p>I have a Poisson distributed glm where I ha...   \n",
       "4  458388      0  <p>1) how do i decide which transformation or ...   \n",
       "\n",
       "                                               Title  \\\n",
       "0     R: emmeans back tranform clr data using clrInv   \n",
       "1  Trying to determine the failure rate of redund...   \n",
       "2  How to derive categorical cross entropy update...   \n",
       "3  Learning more about glm parameters, how to dig...   \n",
       "4  Is there I guide to decide which transformatio...   \n",
       "\n",
       "                                                Tags  \n",
       "0                  <r><mixed-model><linear><lsmeans>  \n",
       "1                              <probability><python>  \n",
       "2                          <logistic><cross-entropy>  \n",
       "3         <generalized-linear-model><interpretation>  \n",
       "4  <python><data-transformation><dataset><feature...  "
      ]
     },
     "execution_count": 3,
     "metadata": {},
     "output_type": "execute_result"
    }
   ],
   "source": [
    "import pandas as pd\n",
    "traindata = pd.read_csv('stack_stats_2020_train.csv')\n",
    "traindata.head() # to display the first 5 lines of loaded data"
   ]
  },
  {
   "cell_type": "markdown",
   "id": "92413ebb",
   "metadata": {},
   "source": [
    "### Getting Text from HTML for train data"
   ]
  },
  {
   "cell_type": "code",
   "execution_count": 4,
   "id": "a8b37b00",
   "metadata": {},
   "outputs": [],
   "source": [
    "a=[]\n",
    "for i in range(len(traindata['Body'])):\n",
    " soup = BeautifulSoup(traindata['Body'][i], 'html.parser')\n",
    " a.append((soup.get_text()))"
   ]
  },
  {
   "cell_type": "code",
   "execution_count": 5,
   "id": "8ba7fb65",
   "metadata": {},
   "outputs": [
    {
     "name": "stderr",
     "output_type": "stream",
     "text": [
      "IOPub data rate exceeded.\n",
      "The notebook server will temporarily stop sending output\n",
      "to the client in order to avoid crashing it.\n",
      "To change this limit, set the config variable\n",
      "`--NotebookApp.iopub_data_rate_limit`.\n",
      "\n",
      "Current values:\n",
      "NotebookApp.iopub_data_rate_limit=1000000.0 (bytes/sec)\n",
      "NotebookApp.rate_limit_window=3.0 (secs)\n",
      "\n"
     ]
    }
   ],
   "source": [
    "print(a)"
   ]
  },
  {
   "cell_type": "code",
   "execution_count": 6,
   "id": "7f447ec5",
   "metadata": {},
   "outputs": [],
   "source": [
    "traindata['Body']=a"
   ]
  },
  {
   "cell_type": "code",
   "execution_count": 7,
   "id": "7b042ddd",
   "metadata": {},
   "outputs": [
    {
     "name": "stdout",
     "output_type": "stream",
     "text": [
      "           Id  Score                                               Body  \\\n",
      "0      495560      1  I have a set of data that I am transforming us...   \n",
      "1      489896      0  We are sending a one bit message to someone.  ...   \n",
      "2      497951      2  I am aware that there is a similar post: Vecto...   \n",
      "3      478542      2  I have a Poisson distributed glm where I have ...   \n",
      "4      458388      0  1) how do i decide which transformation or sca...   \n",
      "...       ...    ...                                                ...   \n",
      "19242  464995      0  I'm currently trying to implement a decision t...   \n",
      "19243  477516      0  What are the available tools (results) that ca...   \n",
      "19244  461894      1  Let $X^n=(X_1,X_2,...,X_n)$ denote a sample wh...   \n",
      "19245  498148      0  I have a data set of property sales where info...   \n",
      "19246  469634      0  I have data from a human subject experiment wi...   \n",
      "\n",
      "                                                   Title  \\\n",
      "0         R: emmeans back tranform clr data using clrInv   \n",
      "1      Trying to determine the failure rate of redund...   \n",
      "2      How to derive categorical cross entropy update...   \n",
      "3      Learning more about glm parameters, how to dig...   \n",
      "4      Is there I guide to decide which transformatio...   \n",
      "...                                                  ...   \n",
      "19242  How does decision tree classify tuple whose co...   \n",
      "19243  What are the available tools (results) that ca...   \n",
      "19244     Maximum Likelihood Estimator for Censored Data   \n",
      "19245  Can you use a single missingness indicator for...   \n",
      "19246  What is the appropriate non-parametric test fo...   \n",
      "\n",
      "                                                    Tags  \n",
      "0                      <r><mixed-model><linear><lsmeans>  \n",
      "1                                  <probability><python>  \n",
      "2                              <logistic><cross-entropy>  \n",
      "3             <generalized-linear-model><interpretation>  \n",
      "4      <python><data-transformation><dataset><feature...  \n",
      "...                                                  ...  \n",
      "19242                             <classification><cart>  \n",
      "19243  <convergence><asymptotics><central-limit-theor...  \n",
      "19244        <estimation><maximum-likelihood><censoring>  \n",
      "19245  <missing-data><data-preprocessing><indicator-f...  \n",
      "19246  <r><mixed-model><repeated-measures><nonparamet...  \n",
      "\n",
      "[19247 rows x 5 columns]\n"
     ]
    }
   ],
   "source": [
    "print(traindata)"
   ]
  },
  {
   "cell_type": "code",
   "execution_count": 8,
   "id": "c559dc1b",
   "metadata": {},
   "outputs": [],
   "source": [
    "b=[]\n",
    "for i in traindata['Body']:\n",
    "    \n",
    "    b.append(i.replace(\"\\n\", ''))\n",
    "    "
   ]
  },
  {
   "cell_type": "code",
   "execution_count": 9,
   "id": "caf6b903",
   "metadata": {},
   "outputs": [
    {
     "name": "stderr",
     "output_type": "stream",
     "text": [
      "IOPub data rate exceeded.\n",
      "The notebook server will temporarily stop sending output\n",
      "to the client in order to avoid crashing it.\n",
      "To change this limit, set the config variable\n",
      "`--NotebookApp.iopub_data_rate_limit`.\n",
      "\n",
      "Current values:\n",
      "NotebookApp.iopub_data_rate_limit=1000000.0 (bytes/sec)\n",
      "NotebookApp.rate_limit_window=3.0 (secs)\n",
      "\n"
     ]
    }
   ],
   "source": [
    "print(b)"
   ]
  },
  {
   "cell_type": "code",
   "execution_count": 10,
   "id": "a79cae64",
   "metadata": {},
   "outputs": [],
   "source": [
    "traindata['Body']=b"
   ]
  },
  {
   "cell_type": "code",
   "execution_count": null,
   "id": "5793871f",
   "metadata": {},
   "outputs": [],
   "source": []
  },
  {
   "cell_type": "markdown",
   "id": "1a1e40a4",
   "metadata": {},
   "source": [
    "### ii ) Extracting HTML text from test data"
   ]
  },
  {
   "cell_type": "code",
   "execution_count": 11,
   "id": "b2521aa7",
   "metadata": {},
   "outputs": [
    {
     "data": {
      "text/html": [
       "<div>\n",
       "<style scoped>\n",
       "    .dataframe tbody tr th:only-of-type {\n",
       "        vertical-align: middle;\n",
       "    }\n",
       "\n",
       "    .dataframe tbody tr th {\n",
       "        vertical-align: top;\n",
       "    }\n",
       "\n",
       "    .dataframe thead th {\n",
       "        text-align: right;\n",
       "    }\n",
       "</style>\n",
       "<table border=\"1\" class=\"dataframe\">\n",
       "  <thead>\n",
       "    <tr style=\"text-align: right;\">\n",
       "      <th></th>\n",
       "      <th>Id</th>\n",
       "      <th>Score</th>\n",
       "      <th>Body</th>\n",
       "      <th>Title</th>\n",
       "      <th>Tags</th>\n",
       "    </tr>\n",
       "  </thead>\n",
       "  <tbody>\n",
       "    <tr>\n",
       "      <th>0</th>\n",
       "      <td>476132</td>\n",
       "      <td>0</td>\n",
       "      <td>&lt;p&gt;&lt;strong&gt;Summarize the problem&lt;/strong&gt;&lt;/p&gt;\\...</td>\n",
       "      <td>What I do with the results extracted from lasso?</td>\n",
       "      <td>&lt;stata&gt;&lt;lasso&gt;</td>\n",
       "    </tr>\n",
       "    <tr>\n",
       "      <th>1</th>\n",
       "      <td>450811</td>\n",
       "      <td>0</td>\n",
       "      <td>&lt;p&gt;I try to calculate the marginal likelihood ...</td>\n",
       "      <td>the marginal likelihood of analytical result i...</td>\n",
       "      <td>&lt;sampling&gt;&lt;marginal-distribution&gt;&lt;rstan&gt;</td>\n",
       "    </tr>\n",
       "    <tr>\n",
       "      <th>2</th>\n",
       "      <td>472876</td>\n",
       "      <td>1</td>\n",
       "      <td>&lt;p&gt;I have a data set which involves 30 binomia...</td>\n",
       "      <td>GLMER Overdispersion and Error messages</td>\n",
       "      <td>&lt;lme4-nlme&gt;&lt;glmm&gt;&lt;eigenvalues&gt;&lt;overdispersion&gt;</td>\n",
       "    </tr>\n",
       "    <tr>\n",
       "      <th>3</th>\n",
       "      <td>470799</td>\n",
       "      <td>1</td>\n",
       "      <td>&lt;p&gt;It is well known that the K-means algorithm...</td>\n",
       "      <td>K-medoids: Is there any constraint about the c...</td>\n",
       "      <td>&lt;clustering&gt;&lt;k-medoids&gt;</td>\n",
       "    </tr>\n",
       "    <tr>\n",
       "      <th>4</th>\n",
       "      <td>446472</td>\n",
       "      <td>2</td>\n",
       "      <td>&lt;p&gt;I'm working on a text classification proble...</td>\n",
       "      <td>Combining XGBoost and LightGBM</td>\n",
       "      <td>&lt;python&gt;&lt;boosting&gt;</td>\n",
       "    </tr>\n",
       "  </tbody>\n",
       "</table>\n",
       "</div>"
      ],
      "text/plain": [
       "       Id  Score                                               Body  \\\n",
       "0  476132      0  <p><strong>Summarize the problem</strong></p>\\...   \n",
       "1  450811      0  <p>I try to calculate the marginal likelihood ...   \n",
       "2  472876      1  <p>I have a data set which involves 30 binomia...   \n",
       "3  470799      1  <p>It is well known that the K-means algorithm...   \n",
       "4  446472      2  <p>I'm working on a text classification proble...   \n",
       "\n",
       "                                               Title  \\\n",
       "0   What I do with the results extracted from lasso?   \n",
       "1  the marginal likelihood of analytical result i...   \n",
       "2            GLMER Overdispersion and Error messages   \n",
       "3  K-medoids: Is there any constraint about the c...   \n",
       "4                     Combining XGBoost and LightGBM   \n",
       "\n",
       "                                             Tags  \n",
       "0                                  <stata><lasso>  \n",
       "1        <sampling><marginal-distribution><rstan>  \n",
       "2  <lme4-nlme><glmm><eigenvalues><overdispersion>  \n",
       "3                         <clustering><k-medoids>  \n",
       "4                              <python><boosting>  "
      ]
     },
     "execution_count": 11,
     "metadata": {},
     "output_type": "execute_result"
    }
   ],
   "source": [
    "testdata = pd.read_csv('stack_stats_2020_test.csv')\n",
    "testdata.head() # to display the first 5 lines of loaded data"
   ]
  },
  {
   "cell_type": "code",
   "execution_count": 12,
   "id": "8fcf5d0b",
   "metadata": {},
   "outputs": [],
   "source": [
    "a=[]\n",
    "for i in range(len(testdata['Body'])):\n",
    " soup = BeautifulSoup(testdata['Body'][i], 'html.parser')\n",
    " a.append((soup.get_text()))"
   ]
  },
  {
   "cell_type": "code",
   "execution_count": 13,
   "id": "49c532b9",
   "metadata": {},
   "outputs": [],
   "source": [
    "testdata['Body']=a"
   ]
  },
  {
   "cell_type": "code",
   "execution_count": 14,
   "id": "dd886635",
   "metadata": {},
   "outputs": [],
   "source": [
    "b=[]\n",
    "for i in testdata['Body']:\n",
    "    \n",
    "    b.append(i.replace(\"\\n\", ''))\n",
    "    "
   ]
  },
  {
   "cell_type": "code",
   "execution_count": 15,
   "id": "bb931f64",
   "metadata": {},
   "outputs": [],
   "source": [
    "testdata['Body']=b\n"
   ]
  },
  {
   "cell_type": "markdown",
   "id": "9eb44475",
   "metadata": {},
   "source": [
    "### iii) Cleaning Tags for Training Dataset"
   ]
  },
  {
   "cell_type": "code",
   "execution_count": 16,
   "id": "a2ed2b7f",
   "metadata": {},
   "outputs": [],
   "source": [
    "b=[]\n",
    "for i in traindata['Tags']:\n",
    "    b.append(i.replace(\"<\", ''))\n",
    "traindata['Tags']=b  \n",
    "\n",
    "c=[]\n",
    "for i in traindata['Tags']:\n",
    "    c.append(i.replace(\">\", ''))\n",
    "traindata['Tags']=c\n"
   ]
  },
  {
   "cell_type": "markdown",
   "id": "9200753f",
   "metadata": {},
   "source": [
    "### iii) Cleaning Tags for Test Dataset"
   ]
  },
  {
   "cell_type": "code",
   "execution_count": 17,
   "id": "24e73507",
   "metadata": {},
   "outputs": [],
   "source": [
    "b=[]\n",
    "for i in testdata['Tags']:\n",
    "    b.append(i.replace(\"<\", ''))\n",
    "testdata['Tags']=b  \n",
    "\n",
    "c=[]\n",
    "for i in testdata['Tags']:\n",
    "    c.append(i.replace(\">\", ''))\n",
    "testdata['Tags']=c"
   ]
  },
  {
   "cell_type": "markdown",
   "id": "2636fa2c",
   "metadata": {},
   "source": [
    "### Converting text to lowercase"
   ]
  },
  {
   "cell_type": "code",
   "execution_count": 18,
   "id": "e4dfe45c",
   "metadata": {},
   "outputs": [],
   "source": [
    "traindata['Body'] = traindata['Body'].str.lower()\n",
    "traindata['Tags'] = traindata['Tags'].str.lower()\n",
    "traindata['Title'] = traindata['Title'].str.lower()\n"
   ]
  },
  {
   "cell_type": "code",
   "execution_count": 19,
   "id": "5e355e2d",
   "metadata": {},
   "outputs": [
    {
     "data": {
      "text/plain": [
       "0           r: emmeans back tranform clr data using clrinv\n",
       "1        trying to determine the failure rate of redund...\n",
       "2        how to derive categorical cross entropy update...\n",
       "3        learning more about glm parameters, how to dig...\n",
       "4        is there i guide to decide which transformatio...\n",
       "                               ...                        \n",
       "19242    how does decision tree classify tuple whose co...\n",
       "19243    what are the available tools (results) that ca...\n",
       "19244       maximum likelihood estimator for censored data\n",
       "19245    can you use a single missingness indicator for...\n",
       "19246    what is the appropriate non-parametric test fo...\n",
       "Name: Title, Length: 19247, dtype: object"
      ]
     },
     "execution_count": 19,
     "metadata": {},
     "output_type": "execute_result"
    }
   ],
   "source": [
    "traindata['Title']"
   ]
  },
  {
   "cell_type": "code",
   "execution_count": 20,
   "id": "dd404c2d",
   "metadata": {},
   "outputs": [
    {
     "data": {
      "text/html": [
       "<div>\n",
       "<style scoped>\n",
       "    .dataframe tbody tr th:only-of-type {\n",
       "        vertical-align: middle;\n",
       "    }\n",
       "\n",
       "    .dataframe tbody tr th {\n",
       "        vertical-align: top;\n",
       "    }\n",
       "\n",
       "    .dataframe thead th {\n",
       "        text-align: right;\n",
       "    }\n",
       "</style>\n",
       "<table border=\"1\" class=\"dataframe\">\n",
       "  <thead>\n",
       "    <tr style=\"text-align: right;\">\n",
       "      <th></th>\n",
       "      <th>Id</th>\n",
       "      <th>Score</th>\n",
       "      <th>Body</th>\n",
       "      <th>Title</th>\n",
       "      <th>Tags</th>\n",
       "    </tr>\n",
       "  </thead>\n",
       "  <tbody>\n",
       "    <tr>\n",
       "      <th>0</th>\n",
       "      <td>495560</td>\n",
       "      <td>1</td>\n",
       "      <td>i have a set of data that i am transforming us...</td>\n",
       "      <td>r: emmeans back tranform clr data using clrinv</td>\n",
       "      <td>rmixed-modellinearlsmeans</td>\n",
       "    </tr>\n",
       "    <tr>\n",
       "      <th>1</th>\n",
       "      <td>489896</td>\n",
       "      <td>0</td>\n",
       "      <td>we are sending a one bit message to someone.  ...</td>\n",
       "      <td>trying to determine the failure rate of redund...</td>\n",
       "      <td>probabilitypython</td>\n",
       "    </tr>\n",
       "    <tr>\n",
       "      <th>2</th>\n",
       "      <td>497951</td>\n",
       "      <td>2</td>\n",
       "      <td>i am aware that there is a similar post: vecto...</td>\n",
       "      <td>how to derive categorical cross entropy update...</td>\n",
       "      <td>logisticcross-entropy</td>\n",
       "    </tr>\n",
       "    <tr>\n",
       "      <th>3</th>\n",
       "      <td>478542</td>\n",
       "      <td>2</td>\n",
       "      <td>i have a poisson distributed glm where i have ...</td>\n",
       "      <td>learning more about glm parameters, how to dig...</td>\n",
       "      <td>generalized-linear-modelinterpretation</td>\n",
       "    </tr>\n",
       "    <tr>\n",
       "      <th>4</th>\n",
       "      <td>458388</td>\n",
       "      <td>0</td>\n",
       "      <td>1) how do i decide which transformation or sca...</td>\n",
       "      <td>is there i guide to decide which transformatio...</td>\n",
       "      <td>pythondata-transformationdatasetfeature-engine...</td>\n",
       "    </tr>\n",
       "    <tr>\n",
       "      <th>...</th>\n",
       "      <td>...</td>\n",
       "      <td>...</td>\n",
       "      <td>...</td>\n",
       "      <td>...</td>\n",
       "      <td>...</td>\n",
       "    </tr>\n",
       "    <tr>\n",
       "      <th>19242</th>\n",
       "      <td>464995</td>\n",
       "      <td>0</td>\n",
       "      <td>i'm currently trying to implement a decision t...</td>\n",
       "      <td>how does decision tree classify tuple whose co...</td>\n",
       "      <td>classificationcart</td>\n",
       "    </tr>\n",
       "    <tr>\n",
       "      <th>19243</th>\n",
       "      <td>477516</td>\n",
       "      <td>0</td>\n",
       "      <td>what are the available tools (results) that ca...</td>\n",
       "      <td>what are the available tools (results) that ca...</td>\n",
       "      <td>convergenceasymptoticscentral-limit-theoremest...</td>\n",
       "    </tr>\n",
       "    <tr>\n",
       "      <th>19244</th>\n",
       "      <td>461894</td>\n",
       "      <td>1</td>\n",
       "      <td>let $x^n=(x_1,x_2,...,x_n)$ denote a sample wh...</td>\n",
       "      <td>maximum likelihood estimator for censored data</td>\n",
       "      <td>estimationmaximum-likelihoodcensoring</td>\n",
       "    </tr>\n",
       "    <tr>\n",
       "      <th>19245</th>\n",
       "      <td>498148</td>\n",
       "      <td>0</td>\n",
       "      <td>i have a data set of property sales where info...</td>\n",
       "      <td>can you use a single missingness indicator for...</td>\n",
       "      <td>missing-datadata-preprocessingindicator-function</td>\n",
       "    </tr>\n",
       "    <tr>\n",
       "      <th>19246</th>\n",
       "      <td>469634</td>\n",
       "      <td>0</td>\n",
       "      <td>i have data from a human subject experiment wi...</td>\n",
       "      <td>what is the appropriate non-parametric test fo...</td>\n",
       "      <td>rmixed-modelrepeated-measuresnonparametricwilc...</td>\n",
       "    </tr>\n",
       "  </tbody>\n",
       "</table>\n",
       "<p>19247 rows × 5 columns</p>\n",
       "</div>"
      ],
      "text/plain": [
       "           Id  Score                                               Body  \\\n",
       "0      495560      1  i have a set of data that i am transforming us...   \n",
       "1      489896      0  we are sending a one bit message to someone.  ...   \n",
       "2      497951      2  i am aware that there is a similar post: vecto...   \n",
       "3      478542      2  i have a poisson distributed glm where i have ...   \n",
       "4      458388      0  1) how do i decide which transformation or sca...   \n",
       "...       ...    ...                                                ...   \n",
       "19242  464995      0  i'm currently trying to implement a decision t...   \n",
       "19243  477516      0  what are the available tools (results) that ca...   \n",
       "19244  461894      1  let $x^n=(x_1,x_2,...,x_n)$ denote a sample wh...   \n",
       "19245  498148      0  i have a data set of property sales where info...   \n",
       "19246  469634      0  i have data from a human subject experiment wi...   \n",
       "\n",
       "                                                   Title  \\\n",
       "0         r: emmeans back tranform clr data using clrinv   \n",
       "1      trying to determine the failure rate of redund...   \n",
       "2      how to derive categorical cross entropy update...   \n",
       "3      learning more about glm parameters, how to dig...   \n",
       "4      is there i guide to decide which transformatio...   \n",
       "...                                                  ...   \n",
       "19242  how does decision tree classify tuple whose co...   \n",
       "19243  what are the available tools (results) that ca...   \n",
       "19244     maximum likelihood estimator for censored data   \n",
       "19245  can you use a single missingness indicator for...   \n",
       "19246  what is the appropriate non-parametric test fo...   \n",
       "\n",
       "                                                    Tags  \n",
       "0                              rmixed-modellinearlsmeans  \n",
       "1                                      probabilitypython  \n",
       "2                                  logisticcross-entropy  \n",
       "3                 generalized-linear-modelinterpretation  \n",
       "4      pythondata-transformationdatasetfeature-engine...  \n",
       "...                                                  ...  \n",
       "19242                                 classificationcart  \n",
       "19243  convergenceasymptoticscentral-limit-theoremest...  \n",
       "19244              estimationmaximum-likelihoodcensoring  \n",
       "19245   missing-datadata-preprocessingindicator-function  \n",
       "19246  rmixed-modelrepeated-measuresnonparametricwilc...  \n",
       "\n",
       "[19247 rows x 5 columns]"
      ]
     },
     "execution_count": 20,
     "metadata": {},
     "output_type": "execute_result"
    }
   ],
   "source": [
    "traindata\n"
   ]
  },
  {
   "cell_type": "markdown",
   "id": "3b80837f",
   "metadata": {},
   "source": [
    "### Converting text to lowercase"
   ]
  },
  {
   "cell_type": "code",
   "execution_count": 21,
   "id": "86b1e6f7",
   "metadata": {},
   "outputs": [],
   "source": [
    "testdata['Body'] = testdata['Body'].str.lower()\n",
    "testdata['Tags'] = testdata['Tags'].str.lower()\n",
    "testdata['Title'] = testdata['Title'].str.lower()"
   ]
  },
  {
   "cell_type": "code",
   "execution_count": 22,
   "id": "8c3ba572",
   "metadata": {},
   "outputs": [],
   "source": [
    "testdata['Title'] = testdata['Title'].str.lower()"
   ]
  },
  {
   "cell_type": "code",
   "execution_count": 23,
   "id": "e87b057c",
   "metadata": {},
   "outputs": [
    {
     "data": {
      "text/html": [
       "<div>\n",
       "<style scoped>\n",
       "    .dataframe tbody tr th:only-of-type {\n",
       "        vertical-align: middle;\n",
       "    }\n",
       "\n",
       "    .dataframe tbody tr th {\n",
       "        vertical-align: top;\n",
       "    }\n",
       "\n",
       "    .dataframe thead th {\n",
       "        text-align: right;\n",
       "    }\n",
       "</style>\n",
       "<table border=\"1\" class=\"dataframe\">\n",
       "  <thead>\n",
       "    <tr style=\"text-align: right;\">\n",
       "      <th></th>\n",
       "      <th>Id</th>\n",
       "      <th>Score</th>\n",
       "      <th>Body</th>\n",
       "      <th>Title</th>\n",
       "      <th>Tags</th>\n",
       "    </tr>\n",
       "  </thead>\n",
       "  <tbody>\n",
       "    <tr>\n",
       "      <th>0</th>\n",
       "      <td>476132</td>\n",
       "      <td>0</td>\n",
       "      <td>summarize the problemi have a dataset with pan...</td>\n",
       "      <td>what i do with the results extracted from lasso?</td>\n",
       "      <td>statalasso</td>\n",
       "    </tr>\n",
       "    <tr>\n",
       "      <th>1</th>\n",
       "      <td>450811</td>\n",
       "      <td>0</td>\n",
       "      <td>i try to calculate the marginal likelihood of ...</td>\n",
       "      <td>the marginal likelihood of analytical result i...</td>\n",
       "      <td>samplingmarginal-distributionrstan</td>\n",
       "    </tr>\n",
       "    <tr>\n",
       "      <th>2</th>\n",
       "      <td>472876</td>\n",
       "      <td>1</td>\n",
       "      <td>i have a data set which involves 30 binomial a...</td>\n",
       "      <td>glmer overdispersion and error messages</td>\n",
       "      <td>lme4-nlmeglmmeigenvaluesoverdispersion</td>\n",
       "    </tr>\n",
       "    <tr>\n",
       "      <th>3</th>\n",
       "      <td>470799</td>\n",
       "      <td>1</td>\n",
       "      <td>it is well known that the k-means algorithm is...</td>\n",
       "      <td>k-medoids: is there any constraint about the c...</td>\n",
       "      <td>clusteringk-medoids</td>\n",
       "    </tr>\n",
       "    <tr>\n",
       "      <th>4</th>\n",
       "      <td>446472</td>\n",
       "      <td>2</td>\n",
       "      <td>i'm working on a text classification problem a...</td>\n",
       "      <td>combining xgboost and lightgbm</td>\n",
       "      <td>pythonboosting</td>\n",
       "    </tr>\n",
       "    <tr>\n",
       "      <th>...</th>\n",
       "      <td>...</td>\n",
       "      <td>...</td>\n",
       "      <td>...</td>\n",
       "      <td>...</td>\n",
       "      <td>...</td>\n",
       "    </tr>\n",
       "    <tr>\n",
       "      <th>8244</th>\n",
       "      <td>450701</td>\n",
       "      <td>0</td>\n",
       "      <td>my data is of the form $(x,y)\\in\\mathbb{r}^{20...</td>\n",
       "      <td>visualising high dimensional data</td>\n",
       "      <td>rdata-visualizationggplot2</td>\n",
       "    </tr>\n",
       "    <tr>\n",
       "      <th>8245</th>\n",
       "      <td>481194</td>\n",
       "      <td>1</td>\n",
       "      <td>i noticed the term anova used in many contexts...</td>\n",
       "      <td>is the analysis of residual variance still ano...</td>\n",
       "      <td>regressionanovageneralized-linear-modelmodelin...</td>\n",
       "    </tr>\n",
       "    <tr>\n",
       "      <th>8246</th>\n",
       "      <td>492163</td>\n",
       "      <td>3</td>\n",
       "      <td>i'm trying to do logistic regression, but i ca...</td>\n",
       "      <td>handling missing data in logistic regression</td>\n",
       "      <td>rregressionlogisticmissing-dataregression-stra...</td>\n",
       "    </tr>\n",
       "    <tr>\n",
       "      <th>8247</th>\n",
       "      <td>451444</td>\n",
       "      <td>2</td>\n",
       "      <td>consider the following experimental design wit...</td>\n",
       "      <td>mixed models: how to treat random factors that...</td>\n",
       "      <td>rmixed-modellme4-nlme</td>\n",
       "    </tr>\n",
       "    <tr>\n",
       "      <th>8248</th>\n",
       "      <td>460905</td>\n",
       "      <td>17</td>\n",
       "      <td>i am constructing different configurations of ...</td>\n",
       "      <td>data partitioning for spatial data</td>\n",
       "      <td>machine-learningrandom-forestspatialpartitioni...</td>\n",
       "    </tr>\n",
       "  </tbody>\n",
       "</table>\n",
       "<p>8249 rows × 5 columns</p>\n",
       "</div>"
      ],
      "text/plain": [
       "          Id  Score                                               Body  \\\n",
       "0     476132      0  summarize the problemi have a dataset with pan...   \n",
       "1     450811      0  i try to calculate the marginal likelihood of ...   \n",
       "2     472876      1  i have a data set which involves 30 binomial a...   \n",
       "3     470799      1  it is well known that the k-means algorithm is...   \n",
       "4     446472      2  i'm working on a text classification problem a...   \n",
       "...      ...    ...                                                ...   \n",
       "8244  450701      0  my data is of the form $(x,y)\\in\\mathbb{r}^{20...   \n",
       "8245  481194      1  i noticed the term anova used in many contexts...   \n",
       "8246  492163      3  i'm trying to do logistic regression, but i ca...   \n",
       "8247  451444      2  consider the following experimental design wit...   \n",
       "8248  460905     17  i am constructing different configurations of ...   \n",
       "\n",
       "                                                  Title  \\\n",
       "0      what i do with the results extracted from lasso?   \n",
       "1     the marginal likelihood of analytical result i...   \n",
       "2               glmer overdispersion and error messages   \n",
       "3     k-medoids: is there any constraint about the c...   \n",
       "4                        combining xgboost and lightgbm   \n",
       "...                                                 ...   \n",
       "8244                  visualising high dimensional data   \n",
       "8245  is the analysis of residual variance still ano...   \n",
       "8246       handling missing data in logistic regression   \n",
       "8247  mixed models: how to treat random factors that...   \n",
       "8248                 data partitioning for spatial data   \n",
       "\n",
       "                                                   Tags  \n",
       "0                                            statalasso  \n",
       "1                    samplingmarginal-distributionrstan  \n",
       "2                lme4-nlmeglmmeigenvaluesoverdispersion  \n",
       "3                                   clusteringk-medoids  \n",
       "4                                        pythonboosting  \n",
       "...                                                 ...  \n",
       "8244                         rdata-visualizationggplot2  \n",
       "8245  regressionanovageneralized-linear-modelmodelin...  \n",
       "8246  rregressionlogisticmissing-dataregression-stra...  \n",
       "8247                              rmixed-modellme4-nlme  \n",
       "8248  machine-learningrandom-forestspatialpartitioni...  \n",
       "\n",
       "[8249 rows x 5 columns]"
      ]
     },
     "execution_count": 23,
     "metadata": {},
     "output_type": "execute_result"
    }
   ],
   "source": [
    "testdata"
   ]
  },
  {
   "cell_type": "markdown",
   "id": "23e2eb54",
   "metadata": {},
   "source": [
    "### Removing punctuation from Testing and Training data"
   ]
  },
  {
   "cell_type": "code",
   "execution_count": 24,
   "id": "3f5e8e8f",
   "metadata": {},
   "outputs": [
    {
     "data": {
      "text/plain": [
       "0        i have a set of data that i am transforming us...\n",
       "1        we are sending a one bit message to someone  t...\n",
       "2        i am aware that there is a similar post vector...\n",
       "3        i have a poisson distributed glm where i have ...\n",
       "4        1 how do i decide which transformation or scal...\n",
       "                               ...                        \n",
       "19242    im currently trying to implement a decision tr...\n",
       "19243    what are the available tools results that can ...\n",
       "19244    let xnx1x2xn denote a sample where 1 ximathbf ...\n",
       "19245    i have a data set of property sales where info...\n",
       "19246    i have data from a human subject experiment wi...\n",
       "Name: Body, Length: 19247, dtype: object"
      ]
     },
     "execution_count": 24,
     "metadata": {},
     "output_type": "execute_result"
    }
   ],
   "source": [
    "from string import punctuation\n",
    "\n",
    "\n",
    "def remove_punctuation(document):\n",
    "\n",
    "    no_punct = ''.join([character for character in document if character not in punctuation])\n",
    "    \n",
    "    return no_punct\n",
    "\n",
    "#note digits and punctuations are not informative for our analysis\n",
    "\n",
    "trainbody_no_punct = traindata['Body'].apply(remove_punctuation)\n",
    "trainbody_no_punct"
   ]
  },
  {
   "cell_type": "code",
   "execution_count": 25,
   "id": "672bce46",
   "metadata": {},
   "outputs": [
    {
     "data": {
      "text/plain": [
       "0                                 rmixedmodellinearlsmeans\n",
       "1                                        probabilitypython\n",
       "2                                     logisticcrossentropy\n",
       "3                     generalizedlinearmodelinterpretation\n",
       "4        pythondatatransformationdatasetfeatureengineer...\n",
       "                               ...                        \n",
       "19242                                   classificationcart\n",
       "19243    convergenceasymptoticscentrallimittheoremestim...\n",
       "19244                 estimationmaximumlikelihoodcensoring\n",
       "19245        missingdatadatapreprocessingindicatorfunction\n",
       "19246    rmixedmodelrepeatedmeasuresnonparametricwilcox...\n",
       "Name: Tags, Length: 19247, dtype: object"
      ]
     },
     "execution_count": 25,
     "metadata": {},
     "output_type": "execute_result"
    }
   ],
   "source": [
    "traintag_no_punct = traindata['Tags'].apply(remove_punctuation)\n",
    "traintag_no_punct"
   ]
  },
  {
   "cell_type": "code",
   "execution_count": 26,
   "id": "56073661",
   "metadata": {},
   "outputs": [
    {
     "data": {
      "text/plain": [
       "0       summarize the problemi have a dataset with pan...\n",
       "1       i try to calculate the marginal likelihood of ...\n",
       "2       i have a data set which involves 30 binomial a...\n",
       "3       it is well known that the kmeans algorithm is ...\n",
       "4       im working on a text classification problem an...\n",
       "                              ...                        \n",
       "8244    my data is of the form xyinmathbbr20timesmathb...\n",
       "8245    i noticed the term anova used in many contexts...\n",
       "8246    im trying to do logistic regression but i cant...\n",
       "8247    consider the following experimental design wit...\n",
       "8248    i am constructing different configurations of ...\n",
       "Name: Body, Length: 8249, dtype: object"
      ]
     },
     "execution_count": 26,
     "metadata": {},
     "output_type": "execute_result"
    }
   ],
   "source": [
    "testbody_no_punct = testdata['Body'].apply(remove_punctuation)\n",
    "testbody_no_punct"
   ]
  },
  {
   "cell_type": "code",
   "execution_count": 27,
   "id": "21e84104",
   "metadata": {},
   "outputs": [
    {
     "data": {
      "text/plain": [
       "0                                              statalasso\n",
       "1                       samplingmarginaldistributionrstan\n",
       "2                   lme4nlmeglmmeigenvaluesoverdispersion\n",
       "3                                      clusteringkmedoids\n",
       "4                                          pythonboosting\n",
       "                              ...                        \n",
       "8244                            rdatavisualizationggplot2\n",
       "8245    regressionanovageneralizedlinearmodelmodelingg...\n",
       "8246    rregressionlogisticmissingdataregressionstrate...\n",
       "8247                                  rmixedmodellme4nlme\n",
       "8248    machinelearningrandomforestspatialpartitioning...\n",
       "Name: Tags, Length: 8249, dtype: object"
      ]
     },
     "execution_count": 27,
     "metadata": {},
     "output_type": "execute_result"
    }
   ],
   "source": [
    "testtag_no_punct = testdata['Tags'].apply(remove_punctuation)\n",
    "testtag_no_punct"
   ]
  },
  {
   "cell_type": "code",
   "execution_count": 28,
   "id": "73da60db",
   "metadata": {},
   "outputs": [
    {
     "data": {
      "text/plain": [
       "0         what i do with the results extracted from lasso\n",
       "1       the marginal likelihood of analytical result i...\n",
       "2                 glmer overdispersion and error messages\n",
       "3       kmedoids is there any constraint about the cho...\n",
       "4                          combining xgboost and lightgbm\n",
       "                              ...                        \n",
       "8244                    visualising high dimensional data\n",
       "8245    is the analysis of residual variance still ano...\n",
       "8246         handling missing data in logistic regression\n",
       "8247    mixed models how to treat random factors that ...\n",
       "8248                   data partitioning for spatial data\n",
       "Name: Title, Length: 8249, dtype: object"
      ]
     },
     "execution_count": 28,
     "metadata": {},
     "output_type": "execute_result"
    }
   ],
   "source": [
    "testttitle_no_punct = testdata['Title'].apply(remove_punctuation)\n",
    "testttitle_no_punct"
   ]
  },
  {
   "cell_type": "code",
   "execution_count": 29,
   "id": "8af4f0f8",
   "metadata": {},
   "outputs": [
    {
     "data": {
      "text/plain": [
       "0            r emmeans back tranform clr data using clrinv\n",
       "1        trying to determine the failure rate of redund...\n",
       "2        how to derive categorical cross entropy update...\n",
       "3        learning more about glm parameters how to dig ...\n",
       "4        is there i guide to decide which transformatio...\n",
       "                               ...                        \n",
       "19242    how does decision tree classify tuple whose co...\n",
       "19243    what are the available tools results that can ...\n",
       "19244       maximum likelihood estimator for censored data\n",
       "19245    can you use a single missingness indicator for...\n",
       "19246    what is the appropriate nonparametric test for...\n",
       "Name: Title, Length: 19247, dtype: object"
      ]
     },
     "execution_count": 29,
     "metadata": {},
     "output_type": "execute_result"
    }
   ],
   "source": [
    "traintitle_no_punct = traindata['Title'].apply(remove_punctuation)\n",
    "traintitle_no_punct"
   ]
  },
  {
   "cell_type": "markdown",
   "id": "c6b48981",
   "metadata": {},
   "source": [
    "### Remove Digits Test Data and Training Data"
   ]
  },
  {
   "cell_type": "code",
   "execution_count": 30,
   "id": "bf5ce2b8",
   "metadata": {},
   "outputs": [],
   "source": [
    "def remove_digit(document): \n",
    "    \n",
    "    no_digit = ''.join([character for character in document if not character.isdigit()])\n",
    "              \n",
    "    return no_digit"
   ]
  },
  {
   "cell_type": "code",
   "execution_count": 31,
   "id": "7234b58b",
   "metadata": {},
   "outputs": [
    {
     "data": {
      "text/plain": [
       "0            r emmeans back tranform clr data using clrinv\n",
       "1        trying to determine the failure rate of redund...\n",
       "2        how to derive categorical cross entropy update...\n",
       "3        learning more about glm parameters how to dig ...\n",
       "4        is there i guide to decide which transformatio...\n",
       "                               ...                        \n",
       "19242    how does decision tree classify tuple whose co...\n",
       "19243    what are the available tools results that can ...\n",
       "19244       maximum likelihood estimator for censored data\n",
       "19245    can you use a single missingness indicator for...\n",
       "19246    what is the appropriate nonparametric test for...\n",
       "Name: Title, Length: 19247, dtype: object"
      ]
     },
     "execution_count": 31,
     "metadata": {},
     "output_type": "execute_result"
    }
   ],
   "source": [
    "trainingtitle_no_digit = traintitle_no_punct.apply(remove_digit)\n",
    "trainingtitle_no_digit"
   ]
  },
  {
   "cell_type": "code",
   "execution_count": 32,
   "id": "c05e14f7",
   "metadata": {},
   "outputs": [
    {
     "data": {
      "text/plain": [
       "0         what i do with the results extracted from lasso\n",
       "1       the marginal likelihood of analytical result i...\n",
       "2                 glmer overdispersion and error messages\n",
       "3       kmedoids is there any constraint about the cho...\n",
       "4                          combining xgboost and lightgbm\n",
       "                              ...                        \n",
       "8244                    visualising high dimensional data\n",
       "8245    is the analysis of residual variance still ano...\n",
       "8246         handling missing data in logistic regression\n",
       "8247    mixed models how to treat random factors that ...\n",
       "8248                   data partitioning for spatial data\n",
       "Name: Title, Length: 8249, dtype: object"
      ]
     },
     "execution_count": 32,
     "metadata": {},
     "output_type": "execute_result"
    }
   ],
   "source": [
    "testingtitle_no_digit = testttitle_no_punct.apply(remove_digit)\n",
    "testingtitle_no_digit"
   ]
  },
  {
   "cell_type": "code",
   "execution_count": 33,
   "id": "a4699dd3",
   "metadata": {},
   "outputs": [
    {
     "data": {
      "text/plain": [
       "0                                              statalasso\n",
       "1                       samplingmarginaldistributionrstan\n",
       "2                    lmenlmeglmmeigenvaluesoverdispersion\n",
       "3                                      clusteringkmedoids\n",
       "4                                          pythonboosting\n",
       "                              ...                        \n",
       "8244                             rdatavisualizationggplot\n",
       "8245    regressionanovageneralizedlinearmodelmodelingg...\n",
       "8246    rregressionlogisticmissingdataregressionstrate...\n",
       "8247                                   rmixedmodellmenlme\n",
       "8248    machinelearningrandomforestspatialpartitioning...\n",
       "Name: Tags, Length: 8249, dtype: object"
      ]
     },
     "execution_count": 33,
     "metadata": {},
     "output_type": "execute_result"
    }
   ],
   "source": [
    "testingtags_no_digit = testtag_no_punct.apply(remove_digit)\n",
    "testingtags_no_digit"
   ]
  },
  {
   "cell_type": "code",
   "execution_count": 34,
   "id": "0ca7b16f",
   "metadata": {},
   "outputs": [
    {
     "data": {
      "text/plain": [
       "0                                 rmixedmodellinearlsmeans\n",
       "1                                        probabilitypython\n",
       "2                                     logisticcrossentropy\n",
       "3                     generalizedlinearmodelinterpretation\n",
       "4        pythondatatransformationdatasetfeatureengineer...\n",
       "                               ...                        \n",
       "19242                                   classificationcart\n",
       "19243    convergenceasymptoticscentrallimittheoremestim...\n",
       "19244                 estimationmaximumlikelihoodcensoring\n",
       "19245        missingdatadatapreprocessingindicatorfunction\n",
       "19246    rmixedmodelrepeatedmeasuresnonparametricwilcox...\n",
       "Name: Tags, Length: 19247, dtype: object"
      ]
     },
     "execution_count": 34,
     "metadata": {},
     "output_type": "execute_result"
    }
   ],
   "source": [
    "traintags_no_digit = traintag_no_punct.apply(remove_digit)\n",
    "traintags_no_digit"
   ]
  },
  {
   "cell_type": "code",
   "execution_count": 35,
   "id": "bfde977e",
   "metadata": {},
   "outputs": [
    {
     "data": {
      "text/plain": [
       "0        i have a set of data that i am transforming us...\n",
       "1        we are sending a one bit message to someone  t...\n",
       "2        i am aware that there is a similar post vector...\n",
       "3        i have a poisson distributed glm where i have ...\n",
       "4         how do i decide which transformation or scali...\n",
       "                               ...                        \n",
       "19242    im currently trying to implement a decision tr...\n",
       "19243    what are the available tools results that can ...\n",
       "19244    let xnxxxn denote a sample where  ximathbf eps...\n",
       "19245    i have a data set of property sales where info...\n",
       "19246    i have data from a human subject experiment wi...\n",
       "Name: Body, Length: 19247, dtype: object"
      ]
     },
     "execution_count": 35,
     "metadata": {},
     "output_type": "execute_result"
    }
   ],
   "source": [
    "trainbody_no_digit = trainbody_no_punct.apply(remove_digit)\n",
    "trainbody_no_digit"
   ]
  },
  {
   "cell_type": "code",
   "execution_count": 36,
   "id": "a1e138f4",
   "metadata": {},
   "outputs": [
    {
     "data": {
      "text/plain": [
       "0       summarize the problemi have a dataset with pan...\n",
       "1       i try to calculate the marginal likelihood of ...\n",
       "2       i have a data set which involves  binomial abs...\n",
       "3       it is well known that the kmeans algorithm is ...\n",
       "4       im working on a text classification problem an...\n",
       "                              ...                        \n",
       "8244    my data is of the form xyinmathbbrtimesmathbbr...\n",
       "8245    i noticed the term anova used in many contexts...\n",
       "8246    im trying to do logistic regression but i cant...\n",
       "8247    consider the following experimental design wit...\n",
       "8248    i am constructing different configurations of ...\n",
       "Name: Body, Length: 8249, dtype: object"
      ]
     },
     "execution_count": 36,
     "metadata": {},
     "output_type": "execute_result"
    }
   ],
   "source": [
    "testbody_no_digit = testbody_no_punct.apply(remove_digit)\n",
    "testbody_no_digit"
   ]
  },
  {
   "cell_type": "markdown",
   "id": "85e3fc0e",
   "metadata": {},
   "source": [
    "###  Tokenization \n",
    "\n",
    "In order to do certain word-related manipulations, we will first tokenize the text, i.e. transform the complete text string into a vector of words\n",
    "\n",
    "#it means cut each sentence into different words"
   ]
  },
  {
   "cell_type": "code",
   "execution_count": 37,
   "id": "e1d3c6e3",
   "metadata": {},
   "outputs": [
    {
     "data": {
      "text/plain": [
       "0    [r, emmeans, back, tranform, clr, data, using,...\n",
       "1    [trying, to, determine, the, failure, rate, of...\n",
       "2    [how, to, derive, categorical, cross, entropy,...\n",
       "3    [learning, more, about, glm, parameters, how, ...\n",
       "4    [is, there, i, guide, to, decide, which, trans...\n",
       "Name: Title, dtype: object"
      ]
     },
     "execution_count": 37,
     "metadata": {},
     "output_type": "execute_result"
    }
   ],
   "source": [
    "import nltk\n",
    "from nltk.tokenize import word_tokenize\n",
    "\n",
    "trainingtitle_tokenized = trainingtitle_no_digit.apply(word_tokenize)\n",
    "trainingtitle_tokenized.head()"
   ]
  },
  {
   "cell_type": "code",
   "execution_count": 38,
   "id": "88292a1d",
   "metadata": {},
   "outputs": [
    {
     "data": {
      "text/plain": [
       "0                           [rmixedmodellinearlsmeans]\n",
       "1                                  [probabilitypython]\n",
       "2                               [logisticcrossentropy]\n",
       "3               [generalizedlinearmodelinterpretation]\n",
       "4    [pythondatatransformationdatasetfeatureenginee...\n",
       "Name: Tags, dtype: object"
      ]
     },
     "execution_count": 38,
     "metadata": {},
     "output_type": "execute_result"
    }
   ],
   "source": [
    "trainingtags_tokenized = traintags_no_digit.apply(word_tokenize)\n",
    "trainingtags_tokenized.head()"
   ]
  },
  {
   "cell_type": "code",
   "execution_count": 39,
   "id": "c39d7a86",
   "metadata": {},
   "outputs": [
    {
     "data": {
      "text/plain": [
       "0    [i, have, a, set, of, data, that, i, am, trans...\n",
       "1    [we, are, sending, a, one, bit, message, to, s...\n",
       "2    [i, am, aware, that, there, is, a, similar, po...\n",
       "3    [i, have, a, poisson, distributed, glm, where,...\n",
       "4    [how, do, i, decide, which, transformation, or...\n",
       "Name: Body, dtype: object"
      ]
     },
     "execution_count": 39,
     "metadata": {},
     "output_type": "execute_result"
    }
   ],
   "source": [
    "trainingbody_tokenized = trainbody_no_digit.apply(word_tokenize)\n",
    "trainingbody_tokenized.head()"
   ]
  },
  {
   "cell_type": "code",
   "execution_count": 40,
   "id": "e6783d1d",
   "metadata": {},
   "outputs": [],
   "source": [
    "###"
   ]
  },
  {
   "cell_type": "code",
   "execution_count": 41,
   "id": "6b3005b3",
   "metadata": {},
   "outputs": [
    {
     "data": {
      "text/plain": [
       "0    [what, i, do, with, the, results, extracted, f...\n",
       "1    [the, marginal, likelihood, of, analytical, re...\n",
       "2        [glmer, overdispersion, and, error, messages]\n",
       "3    [kmedoids, is, there, any, constraint, about, ...\n",
       "4                  [combining, xgboost, and, lightgbm]\n",
       "Name: Title, dtype: object"
      ]
     },
     "execution_count": 41,
     "metadata": {},
     "output_type": "execute_result"
    }
   ],
   "source": [
    "testingtitle_tokenized = testingtitle_no_digit.apply(word_tokenize)\n",
    "testingtitle_tokenized.head()"
   ]
  },
  {
   "cell_type": "code",
   "execution_count": 42,
   "id": "e0b15a01",
   "metadata": {},
   "outputs": [
    {
     "data": {
      "text/plain": [
       "0                              [statalasso]\n",
       "1       [samplingmarginaldistributionrstan]\n",
       "2    [lmenlmeglmmeigenvaluesoverdispersion]\n",
       "3                      [clusteringkmedoids]\n",
       "4                          [pythonboosting]\n",
       "Name: Tags, dtype: object"
      ]
     },
     "execution_count": 42,
     "metadata": {},
     "output_type": "execute_result"
    }
   ],
   "source": [
    "testingtags_tokenized = testingtags_no_digit.apply(word_tokenize)\n",
    "testingtags_tokenized.head()"
   ]
  },
  {
   "cell_type": "code",
   "execution_count": 43,
   "id": "686f0390",
   "metadata": {},
   "outputs": [
    {
     "data": {
      "text/plain": [
       "0    [summarize, the, problemi, have, a, dataset, w...\n",
       "1    [i, try, to, calculate, the, marginal, likelih...\n",
       "2    [i, have, a, data, set, which, involves, binom...\n",
       "3    [it, is, well, known, that, the, kmeans, algor...\n",
       "4    [im, working, on, a, text, classification, pro...\n",
       "Name: Body, dtype: object"
      ]
     },
     "execution_count": 43,
     "metadata": {},
     "output_type": "execute_result"
    }
   ],
   "source": [
    "testbody_tokenized = testbody_no_digit.apply(word_tokenize)\n",
    "testbody_tokenized.head()"
   ]
  },
  {
   "cell_type": "markdown",
   "id": "6fe3f0f0",
   "metadata": {},
   "source": [
    "###  Remove Stopwords (iv)"
   ]
  },
  {
   "cell_type": "code",
   "execution_count": 44,
   "id": "4dd83dcf",
   "metadata": {},
   "outputs": [
    {
     "data": {
      "text/plain": [
       "{'a',\n",
       " 'about',\n",
       " 'above',\n",
       " 'after',\n",
       " 'again',\n",
       " 'against',\n",
       " 'ain',\n",
       " 'all',\n",
       " 'am',\n",
       " 'an',\n",
       " 'and',\n",
       " 'any',\n",
       " 'are',\n",
       " 'aren',\n",
       " \"aren't\",\n",
       " 'as',\n",
       " 'at',\n",
       " 'be',\n",
       " 'because',\n",
       " 'been',\n",
       " 'before',\n",
       " 'being',\n",
       " 'below',\n",
       " 'between',\n",
       " 'both',\n",
       " 'but',\n",
       " 'by',\n",
       " 'can',\n",
       " 'couldn',\n",
       " \"couldn't\",\n",
       " 'd',\n",
       " 'did',\n",
       " 'didn',\n",
       " \"didn't\",\n",
       " 'do',\n",
       " 'does',\n",
       " 'doesn',\n",
       " \"doesn't\",\n",
       " 'doing',\n",
       " 'don',\n",
       " \"don't\",\n",
       " 'down',\n",
       " 'during',\n",
       " 'each',\n",
       " 'few',\n",
       " 'for',\n",
       " 'from',\n",
       " 'further',\n",
       " 'had',\n",
       " 'hadn',\n",
       " \"hadn't\",\n",
       " 'has',\n",
       " 'hasn',\n",
       " \"hasn't\",\n",
       " 'have',\n",
       " 'haven',\n",
       " \"haven't\",\n",
       " 'having',\n",
       " 'he',\n",
       " 'her',\n",
       " 'here',\n",
       " 'hers',\n",
       " 'herself',\n",
       " 'him',\n",
       " 'himself',\n",
       " 'his',\n",
       " 'how',\n",
       " 'i',\n",
       " 'if',\n",
       " 'in',\n",
       " 'into',\n",
       " 'is',\n",
       " 'isn',\n",
       " \"isn't\",\n",
       " 'it',\n",
       " \"it's\",\n",
       " 'its',\n",
       " 'itself',\n",
       " 'just',\n",
       " 'll',\n",
       " 'm',\n",
       " 'ma',\n",
       " 'me',\n",
       " 'mightn',\n",
       " \"mightn't\",\n",
       " 'more',\n",
       " 'most',\n",
       " 'mustn',\n",
       " \"mustn't\",\n",
       " 'my',\n",
       " 'myself',\n",
       " 'needn',\n",
       " \"needn't\",\n",
       " 'no',\n",
       " 'nor',\n",
       " 'not',\n",
       " 'now',\n",
       " 'o',\n",
       " 'of',\n",
       " 'off',\n",
       " 'on',\n",
       " 'once',\n",
       " 'only',\n",
       " 'or',\n",
       " 'other',\n",
       " 'our',\n",
       " 'ours',\n",
       " 'ourselves',\n",
       " 'out',\n",
       " 'over',\n",
       " 'own',\n",
       " 're',\n",
       " 's',\n",
       " 'same',\n",
       " 'shan',\n",
       " \"shan't\",\n",
       " 'she',\n",
       " \"she's\",\n",
       " 'should',\n",
       " \"should've\",\n",
       " 'shouldn',\n",
       " \"shouldn't\",\n",
       " 'so',\n",
       " 'some',\n",
       " 'such',\n",
       " 't',\n",
       " 'than',\n",
       " 'that',\n",
       " \"that'll\",\n",
       " 'the',\n",
       " 'their',\n",
       " 'theirs',\n",
       " 'them',\n",
       " 'themselves',\n",
       " 'then',\n",
       " 'there',\n",
       " 'these',\n",
       " 'they',\n",
       " 'this',\n",
       " 'those',\n",
       " 'through',\n",
       " 'to',\n",
       " 'too',\n",
       " 'under',\n",
       " 'until',\n",
       " 'up',\n",
       " 've',\n",
       " 'very',\n",
       " 'was',\n",
       " 'wasn',\n",
       " \"wasn't\",\n",
       " 'we',\n",
       " 'were',\n",
       " 'weren',\n",
       " \"weren't\",\n",
       " 'what',\n",
       " 'when',\n",
       " 'where',\n",
       " 'which',\n",
       " 'while',\n",
       " 'who',\n",
       " 'whom',\n",
       " 'why',\n",
       " 'will',\n",
       " 'with',\n",
       " 'won',\n",
       " \"won't\",\n",
       " 'wouldn',\n",
       " \"wouldn't\",\n",
       " 'y',\n",
       " 'you',\n",
       " \"you'd\",\n",
       " \"you'll\",\n",
       " \"you're\",\n",
       " \"you've\",\n",
       " 'your',\n",
       " 'yours',\n",
       " 'yourself',\n",
       " 'yourselves'}"
      ]
     },
     "execution_count": 44,
     "metadata": {},
     "output_type": "execute_result"
    }
   ],
   "source": [
    "from nltk.corpus import stopwords\n",
    "\n",
    "stop_words = set(stopwords.words('english'))\n",
    "stop_words"
   ]
  },
  {
   "cell_type": "code",
   "execution_count": 45,
   "id": "586ba1e7",
   "metadata": {},
   "outputs": [],
   "source": [
    "#stop words can be defined and customised based on research"
   ]
  },
  {
   "cell_type": "code",
   "execution_count": null,
   "id": "e451e26f",
   "metadata": {},
   "outputs": [],
   "source": []
  },
  {
   "cell_type": "code",
   "execution_count": 46,
   "id": "337eefeb",
   "metadata": {},
   "outputs": [],
   "source": [
    "def remove_stopwords(document):\n",
    "    \n",
    "    words = [word for word in document if not word in stop_words]\n",
    "    \n",
    "    return words"
   ]
  },
  {
   "cell_type": "code",
   "execution_count": 47,
   "id": "c81e818d",
   "metadata": {},
   "outputs": [
    {
     "data": {
      "text/plain": [
       "0        [r, emmeans, back, tranform, clr, data, using,...\n",
       "1        [trying, determine, failure, rate, redundantly...\n",
       "2        [derive, categorical, cross, entropy, update, ...\n",
       "3                 [learning, glm, parameters, dig, deeper]\n",
       "4        [guide, decide, transformation, choose, differ...\n",
       "                               ...                        \n",
       "19242    [decision, tree, classify, tuple, whose, combi...\n",
       "19243    [available, tools, results, used, pin, rate, c...\n",
       "19244     [maximum, likelihood, estimator, censored, data]\n",
       "19245    [use, single, missingness, indicator, several,...\n",
       "19246    [appropriate, nonparametric, test, interaction...\n",
       "Name: Title, Length: 19247, dtype: object"
      ]
     },
     "execution_count": 47,
     "metadata": {},
     "output_type": "execute_result"
    }
   ],
   "source": [
    "title_no_stop_training = trainingtitle_tokenized.apply(remove_stopwords)\n",
    "title_no_stop_training"
   ]
  },
  {
   "cell_type": "code",
   "execution_count": 48,
   "id": "a6af4009",
   "metadata": {},
   "outputs": [
    {
     "data": {
      "text/plain": [
       "0                             [results, extracted, lasso]\n",
       "1       [marginal, likelihood, analytical, result, dif...\n",
       "2                [glmer, overdispersion, error, messages]\n",
       "3                [kmedoids, constraint, choice, distance]\n",
       "4                          [combining, xgboost, lightgbm]\n",
       "                              ...                        \n",
       "8244               [visualising, high, dimensional, data]\n",
       "8245    [analysis, residual, variance, still, anova, r...\n",
       "8246      [handling, missing, data, logistic, regression]\n",
       "8247    [mixed, models, treat, random, factors, nested...\n",
       "8248                  [data, partitioning, spatial, data]\n",
       "Name: Title, Length: 8249, dtype: object"
      ]
     },
     "execution_count": 48,
     "metadata": {},
     "output_type": "execute_result"
    }
   ],
   "source": [
    "title_no_stop_testing = testingtitle_tokenized.apply(remove_stopwords)\n",
    "title_no_stop_testing"
   ]
  },
  {
   "cell_type": "code",
   "execution_count": 49,
   "id": "d4168778",
   "metadata": {},
   "outputs": [
    {
     "data": {
      "text/plain": [
       "0       [summarize, problemi, dataset, panel, data, tr...\n",
       "1       [try, calculate, marginal, likelihood, example...\n",
       "2       [data, set, involves, binomial, absencepresenc...\n",
       "3       [well, known, kmeans, algorithm, well, designe...\n",
       "4       [im, working, text, classification, problem, c...\n",
       "                              ...                        \n",
       "8244    [data, form, xyinmathbbrtimesmathbbr, denote, ...\n",
       "8245    [noticed, term, anova, used, many, contextsthe...\n",
       "8246    [im, trying, logistic, regression, cant, seem,...\n",
       "8247    [consider, following, experimental, design, wi...\n",
       "8248    [constructing, different, configurations, rand...\n",
       "Name: Body, Length: 8249, dtype: object"
      ]
     },
     "execution_count": 49,
     "metadata": {},
     "output_type": "execute_result"
    }
   ],
   "source": [
    "body_no_stop_testing = testbody_tokenized .apply(remove_stopwords)\n",
    "body_no_stop_testing\n"
   ]
  },
  {
   "cell_type": "code",
   "execution_count": 50,
   "id": "12c5baa2",
   "metadata": {},
   "outputs": [
    {
     "data": {
      "text/plain": [
       "0        [set, data, transforming, using, clr, function...\n",
       "1        [sending, one, bit, message, someone, chance, ...\n",
       "2        [aware, similar, post, vectorization, cross, e...\n",
       "3        [poisson, distributed, glm, identified, origin...\n",
       "4        [decide, transformation, scaling, use, passing...\n",
       "                               ...                        \n",
       "19242    [im, currently, trying, implement, decision, t...\n",
       "19243    [available, tools, results, used, pin, rate, c...\n",
       "19244    [let, xnxxxn, denote, sample, ximathbf, epsilo...\n",
       "19245    [data, set, property, sales, information, prev...\n",
       "19246    [data, human, subject, experiment, repeated, m...\n",
       "Name: Body, Length: 19247, dtype: object"
      ]
     },
     "execution_count": 50,
     "metadata": {},
     "output_type": "execute_result"
    }
   ],
   "source": [
    "body_no_stop_training = trainingbody_tokenized.apply(remove_stopwords)\n",
    "body_no_stop_training\n"
   ]
  },
  {
   "cell_type": "markdown",
   "id": "8fcf3842",
   "metadata": {},
   "source": [
    "tags_no_stop_training = trainingtags_tokenized.apply(remove_stopwords)\n",
    "tags_no_stop_training"
   ]
  },
  {
   "cell_type": "code",
   "execution_count": 51,
   "id": "8644e435",
   "metadata": {},
   "outputs": [
    {
     "data": {
      "text/plain": [
       "0                                            [statalasso]\n",
       "1                     [samplingmarginaldistributionrstan]\n",
       "2                  [lmenlmeglmmeigenvaluesoverdispersion]\n",
       "3                                    [clusteringkmedoids]\n",
       "4                                        [pythonboosting]\n",
       "                              ...                        \n",
       "8244                           [rdatavisualizationggplot]\n",
       "8245    [regressionanovageneralizedlinearmodelmodeling...\n",
       "8246    [rregressionlogisticmissingdataregressionstrat...\n",
       "8247                                 [rmixedmodellmenlme]\n",
       "8248    [machinelearningrandomforestspatialpartitionin...\n",
       "Name: Tags, Length: 8249, dtype: object"
      ]
     },
     "execution_count": 51,
     "metadata": {},
     "output_type": "execute_result"
    }
   ],
   "source": [
    "tags_no_stop_testing = testingtags_tokenized.apply(remove_stopwords)\n",
    "tags_no_stop_testing"
   ]
  },
  {
   "cell_type": "code",
   "execution_count": null,
   "id": "5367739e",
   "metadata": {},
   "outputs": [],
   "source": []
  },
  {
   "cell_type": "code",
   "execution_count": 52,
   "id": "64680ecc",
   "metadata": {},
   "outputs": [
    {
     "data": {
      "text/plain": [
       "0                               [rmixedmodellinearlsmeans]\n",
       "1                                      [probabilitypython]\n",
       "2                                   [logisticcrossentropy]\n",
       "3                   [generalizedlinearmodelinterpretation]\n",
       "4        [pythondatatransformationdatasetfeatureenginee...\n",
       "                               ...                        \n",
       "19242                                 [classificationcart]\n",
       "19243    [convergenceasymptoticscentrallimittheoremesti...\n",
       "19244               [estimationmaximumlikelihoodcensoring]\n",
       "19245      [missingdatadatapreprocessingindicatorfunction]\n",
       "19246    [rmixedmodelrepeatedmeasuresnonparametricwilco...\n",
       "Name: Tags, Length: 19247, dtype: object"
      ]
     },
     "execution_count": 52,
     "metadata": {},
     "output_type": "execute_result"
    }
   ],
   "source": [
    "tags_no_stop_training = trainingtags_tokenized.apply(remove_stopwords)\n",
    "tags_no_stop_training"
   ]
  },
  {
   "cell_type": "markdown",
   "id": "eb5b7a4f",
   "metadata": {},
   "source": [
    "### Stemming"
   ]
  },
  {
   "cell_type": "code",
   "execution_count": 53,
   "id": "c9250581",
   "metadata": {},
   "outputs": [],
   "source": [
    "from nltk.stem import PorterStemmer\n",
    "\n",
    "porter = PorterStemmer()\n",
    "\n",
    "def stemmer(document):\n",
    "    \n",
    "    stemmed_document = [porter.stem(word) for word in document]\n",
    "    \n",
    "    return stemmed_document"
   ]
  },
  {
   "cell_type": "code",
   "execution_count": 54,
   "id": "28c4dcd6",
   "metadata": {},
   "outputs": [],
   "source": [
    "title_training_stemmed = title_no_stop_training.apply(stemmer)\n",
    "title_testing_stemmed = title_no_stop_testing.apply(stemmer)\n",
    "tags_training_stemmed = tags_no_stop_training.apply(stemmer)\n",
    "tags_testing_stemmed = tags_no_stop_testing.apply(stemmer)\n",
    "body_testing_stemmed = body_no_stop_testing.apply(stemmer)\n",
    "body_training_stemmed = body_no_stop_training.apply(stemmer)\n",
    "\n"
   ]
  },
  {
   "cell_type": "code",
   "execution_count": 55,
   "id": "9bd2f7d2",
   "metadata": {},
   "outputs": [
    {
     "data": {
      "text/plain": [
       "0        [r, emmean, back, tranform, clr, data, use, cl...\n",
       "1        [tri, determin, failur, rate, redundantli, sen...\n",
       "2        [deriv, categor, cross, entropi, updat, rule, ...\n",
       "3                       [learn, glm, paramet, dig, deeper]\n",
       "4        [guid, decid, transform, choos, differ, scenar...\n",
       "                               ...                        \n",
       "19242    [decis, tree, classifi, tupl, whose, combin, a...\n",
       "19243    [avail, tool, result, use, pin, rate, converg,...\n",
       "19244           [maximum, likelihood, estim, censor, data]\n",
       "19245         [use, singl, missing, indic, sever, variabl]\n",
       "19246    [appropri, nonparametr, test, interact, effect...\n",
       "Name: Title, Length: 19247, dtype: object"
      ]
     },
     "execution_count": 55,
     "metadata": {},
     "output_type": "execute_result"
    }
   ],
   "source": [
    "title_training_stemmed"
   ]
  },
  {
   "cell_type": "code",
   "execution_count": null,
   "id": "52c89401",
   "metadata": {},
   "outputs": [],
   "source": []
  },
  {
   "cell_type": "code",
   "execution_count": 56,
   "id": "b2304a5c",
   "metadata": {},
   "outputs": [
    {
     "data": {
      "text/plain": [
       "19247"
      ]
     },
     "execution_count": 56,
     "metadata": {},
     "output_type": "execute_result"
    }
   ],
   "source": [
    "len(title_training_stemmed)"
   ]
  },
  {
   "cell_type": "code",
   "execution_count": 57,
   "id": "c9ac5d80",
   "metadata": {},
   "outputs": [],
   "source": [
    "from nltk.tokenize.treebank import TreebankWordDetokenizer\n",
    "title_training_detokenized = title_training_stemmed.apply(TreebankWordDetokenizer().detokenize)\n",
    "title_testing_detokenized = title_testing_stemmed.apply(TreebankWordDetokenizer().detokenize)\n",
    "tags_training_detokenized = tags_training_stemmed.apply(TreebankWordDetokenizer().detokenize)\n",
    "tags_testing_detokenized = tags_testing_stemmed.apply(TreebankWordDetokenizer().detokenize)\n",
    "body_testing_detokenized = body_testing_stemmed.apply(TreebankWordDetokenizer().detokenize)\n",
    "body_training_detokenized = body_training_stemmed.apply(TreebankWordDetokenizer().detokenize)\n",
    "\n"
   ]
  },
  {
   "cell_type": "code",
   "execution_count": 58,
   "id": "6c39e7cf",
   "metadata": {},
   "outputs": [
    {
     "data": {
      "text/plain": [
       "0       summar problemi dataset panel data tri make va...\n",
       "1       tri calcul margin likelihood exampl articl tut...\n",
       "2       data set involv binomi absencepres total ratio...\n",
       "3       well known kmean algorithm well design euclide...\n",
       "4       im work text classif problem compar lightgbm x...\n",
       "                              ...                        \n",
       "8244    data form xyinmathbbrtimesmathbbr denot compon...\n",
       "8245    notic term anova use mani contextsth one taugh...\n",
       "8246    im tri logist regress cant seem get result wan...\n",
       "8247    consid follow experiment design withinsubject ...\n",
       "8248    construct differ configur random forest order ...\n",
       "Name: Body, Length: 8249, dtype: object"
      ]
     },
     "execution_count": 58,
     "metadata": {},
     "output_type": "execute_result"
    }
   ],
   "source": [
    "body_testing_detokenized"
   ]
  },
  {
   "cell_type": "code",
   "execution_count": null,
   "id": "cd25e811",
   "metadata": {},
   "outputs": [],
   "source": []
  },
  {
   "cell_type": "markdown",
   "id": "44a6c920",
   "metadata": {},
   "source": [
    "### DTM"
   ]
  },
  {
   "cell_type": "code",
   "execution_count": 59,
   "id": "be95d5a4",
   "metadata": {},
   "outputs": [
    {
     "data": {
      "text/plain": [
       "<19247x187 sparse matrix of type '<class 'numpy.int64'>'\n",
       "\twith 394137 stored elements in Compressed Sparse Row format>"
      ]
     },
     "execution_count": 59,
     "metadata": {},
     "output_type": "execute_result"
    }
   ],
   "source": [
    "from sklearn.feature_extraction.text import CountVectorizer\n",
    "countvec1 = CountVectorizer(min_df=0.05)\n",
    "body_training_sparse_dtm = countvec1.fit_transform(body_training_detokenized)\n",
    "body_training_sparse_dtm"
   ]
  },
  {
   "cell_type": "code",
   "execution_count": 60,
   "id": "df54a144",
   "metadata": {},
   "outputs": [
    {
     "data": {
      "text/plain": [
       "<19247x16 sparse matrix of type '<class 'numpy.int64'>'\n",
       "\twith 604 stored elements in Compressed Sparse Row format>"
      ]
     },
     "execution_count": 60,
     "metadata": {},
     "output_type": "execute_result"
    }
   ],
   "source": [
    "countvec2 = CountVectorizer(min_df=0.001)\n",
    "tags_training_sparse_dtm = countvec2.fit_transform(tags_training_detokenized)\n",
    "tags_training_sparse_dtm"
   ]
  },
  {
   "cell_type": "code",
   "execution_count": 61,
   "id": "4964091e",
   "metadata": {},
   "outputs": [
    {
     "data": {
      "text/plain": [
       "<19247x9 sparse matrix of type '<class 'numpy.int64'>'\n",
       "\twith 15006 stored elements in Compressed Sparse Row format>"
      ]
     },
     "execution_count": 61,
     "metadata": {},
     "output_type": "execute_result"
    }
   ],
   "source": [
    "countvec3 = CountVectorizer(min_df=0.05)\n",
    "title_training_sparse_dtm = countvec3.fit_transform(title_training_detokenized)\n",
    "title_training_sparse_dtm"
   ]
  },
  {
   "cell_type": "code",
   "execution_count": 62,
   "id": "b40ac276",
   "metadata": {},
   "outputs": [
    {
     "data": {
      "text/plain": [
       "<8249x16 sparse matrix of type '<class 'numpy.int64'>'\n",
       "\twith 246 stored elements in Compressed Sparse Row format>"
      ]
     },
     "execution_count": 62,
     "metadata": {},
     "output_type": "execute_result"
    }
   ],
   "source": [
    "#countvec2 = CountVectorizer(min_df=0.001)\n",
    "tags_testing__sparse_dtm = countvec2.transform(tags_testing_detokenized)\n",
    "tags_testing__sparse_dtm"
   ]
  },
  {
   "cell_type": "code",
   "execution_count": 63,
   "id": "72d5ccf8",
   "metadata": {},
   "outputs": [
    {
     "data": {
      "text/plain": [
       "<8249x187 sparse matrix of type '<class 'numpy.int64'>'\n",
       "\twith 168288 stored elements in Compressed Sparse Row format>"
      ]
     },
     "execution_count": 63,
     "metadata": {},
     "output_type": "execute_result"
    }
   ],
   "source": [
    "#countvec3 = CountVectorizer(min_df=0.05)\n",
    "body_testing_sparse_dtm = countvec1.transform(body_testing_detokenized)\n",
    "body_testing_sparse_dtm"
   ]
  },
  {
   "cell_type": "code",
   "execution_count": 64,
   "id": "02f7651a",
   "metadata": {},
   "outputs": [
    {
     "data": {
      "text/plain": [
       "<8249x9 sparse matrix of type '<class 'numpy.int64'>'\n",
       "\twith 6448 stored elements in Compressed Sparse Row format>"
      ]
     },
     "execution_count": 64,
     "metadata": {},
     "output_type": "execute_result"
    }
   ],
   "source": [
    "#countvec1 = CountVectorizer(min_df=0.05)\n",
    "\n",
    "title_test_sparse_dtm = countvec3.transform(title_testing_detokenized)\n",
    "title_test_sparse_dtm"
   ]
  },
  {
   "cell_type": "code",
   "execution_count": 65,
   "id": "f5bd5994",
   "metadata": {},
   "outputs": [
    {
     "name": "stderr",
     "output_type": "stream",
     "text": [
      "C:\\Users\\anmol\\anaconda3\\lib\\site-packages\\sklearn\\utils\\deprecation.py:87: FutureWarning: Function get_feature_names is deprecated; get_feature_names is deprecated in 1.0 and will be removed in 1.2. Please use get_feature_names_out instead.\n",
      "  warnings.warn(msg, category=FutureWarning)\n"
     ]
    },
    {
     "data": {
      "text/html": [
       "<div>\n",
       "<style scoped>\n",
       "    .dataframe tbody tr th:only-of-type {\n",
       "        vertical-align: middle;\n",
       "    }\n",
       "\n",
       "    .dataframe tbody tr th {\n",
       "        vertical-align: top;\n",
       "    }\n",
       "\n",
       "    .dataframe thead th {\n",
       "        text-align: right;\n",
       "    }\n",
       "</style>\n",
       "<table border=\"1\" class=\"dataframe\">\n",
       "  <thead>\n",
       "    <tr style=\"text-align: right;\">\n",
       "      <th></th>\n",
       "      <th>data</th>\n",
       "      <th>differ</th>\n",
       "      <th>distribut</th>\n",
       "      <th>model</th>\n",
       "      <th>regress</th>\n",
       "      <th>sampl</th>\n",
       "      <th>test</th>\n",
       "      <th>use</th>\n",
       "      <th>variabl</th>\n",
       "    </tr>\n",
       "  </thead>\n",
       "  <tbody>\n",
       "    <tr>\n",
       "      <th>0</th>\n",
       "      <td>0</td>\n",
       "      <td>0</td>\n",
       "      <td>0</td>\n",
       "      <td>0</td>\n",
       "      <td>0</td>\n",
       "      <td>0</td>\n",
       "      <td>0</td>\n",
       "      <td>0</td>\n",
       "      <td>0</td>\n",
       "    </tr>\n",
       "    <tr>\n",
       "      <th>1</th>\n",
       "      <td>0</td>\n",
       "      <td>1</td>\n",
       "      <td>0</td>\n",
       "      <td>0</td>\n",
       "      <td>0</td>\n",
       "      <td>0</td>\n",
       "      <td>0</td>\n",
       "      <td>0</td>\n",
       "      <td>0</td>\n",
       "    </tr>\n",
       "    <tr>\n",
       "      <th>2</th>\n",
       "      <td>0</td>\n",
       "      <td>0</td>\n",
       "      <td>0</td>\n",
       "      <td>0</td>\n",
       "      <td>0</td>\n",
       "      <td>0</td>\n",
       "      <td>0</td>\n",
       "      <td>0</td>\n",
       "      <td>0</td>\n",
       "    </tr>\n",
       "    <tr>\n",
       "      <th>3</th>\n",
       "      <td>0</td>\n",
       "      <td>0</td>\n",
       "      <td>0</td>\n",
       "      <td>0</td>\n",
       "      <td>0</td>\n",
       "      <td>0</td>\n",
       "      <td>0</td>\n",
       "      <td>0</td>\n",
       "      <td>0</td>\n",
       "    </tr>\n",
       "    <tr>\n",
       "      <th>4</th>\n",
       "      <td>0</td>\n",
       "      <td>0</td>\n",
       "      <td>0</td>\n",
       "      <td>0</td>\n",
       "      <td>0</td>\n",
       "      <td>0</td>\n",
       "      <td>0</td>\n",
       "      <td>0</td>\n",
       "      <td>0</td>\n",
       "    </tr>\n",
       "    <tr>\n",
       "      <th>...</th>\n",
       "      <td>...</td>\n",
       "      <td>...</td>\n",
       "      <td>...</td>\n",
       "      <td>...</td>\n",
       "      <td>...</td>\n",
       "      <td>...</td>\n",
       "      <td>...</td>\n",
       "      <td>...</td>\n",
       "      <td>...</td>\n",
       "    </tr>\n",
       "    <tr>\n",
       "      <th>8244</th>\n",
       "      <td>1</td>\n",
       "      <td>0</td>\n",
       "      <td>0</td>\n",
       "      <td>0</td>\n",
       "      <td>0</td>\n",
       "      <td>0</td>\n",
       "      <td>0</td>\n",
       "      <td>0</td>\n",
       "      <td>0</td>\n",
       "    </tr>\n",
       "    <tr>\n",
       "      <th>8245</th>\n",
       "      <td>0</td>\n",
       "      <td>0</td>\n",
       "      <td>0</td>\n",
       "      <td>1</td>\n",
       "      <td>2</td>\n",
       "      <td>0</td>\n",
       "      <td>0</td>\n",
       "      <td>0</td>\n",
       "      <td>0</td>\n",
       "    </tr>\n",
       "    <tr>\n",
       "      <th>8246</th>\n",
       "      <td>1</td>\n",
       "      <td>0</td>\n",
       "      <td>0</td>\n",
       "      <td>0</td>\n",
       "      <td>1</td>\n",
       "      <td>0</td>\n",
       "      <td>0</td>\n",
       "      <td>0</td>\n",
       "      <td>0</td>\n",
       "    </tr>\n",
       "    <tr>\n",
       "      <th>8247</th>\n",
       "      <td>0</td>\n",
       "      <td>0</td>\n",
       "      <td>0</td>\n",
       "      <td>1</td>\n",
       "      <td>0</td>\n",
       "      <td>0</td>\n",
       "      <td>0</td>\n",
       "      <td>0</td>\n",
       "      <td>0</td>\n",
       "    </tr>\n",
       "    <tr>\n",
       "      <th>8248</th>\n",
       "      <td>2</td>\n",
       "      <td>0</td>\n",
       "      <td>0</td>\n",
       "      <td>0</td>\n",
       "      <td>0</td>\n",
       "      <td>0</td>\n",
       "      <td>0</td>\n",
       "      <td>0</td>\n",
       "      <td>0</td>\n",
       "    </tr>\n",
       "  </tbody>\n",
       "</table>\n",
       "<p>8249 rows × 9 columns</p>\n",
       "</div>"
      ],
      "text/plain": [
       "      data  differ  distribut  model  regress  sampl  test  use  variabl\n",
       "0        0       0          0      0        0      0     0    0        0\n",
       "1        0       1          0      0        0      0     0    0        0\n",
       "2        0       0          0      0        0      0     0    0        0\n",
       "3        0       0          0      0        0      0     0    0        0\n",
       "4        0       0          0      0        0      0     0    0        0\n",
       "...    ...     ...        ...    ...      ...    ...   ...  ...      ...\n",
       "8244     1       0          0      0        0      0     0    0        0\n",
       "8245     0       0          0      1        2      0     0    0        0\n",
       "8246     1       0          0      0        1      0     0    0        0\n",
       "8247     0       0          0      1        0      0     0    0        0\n",
       "8248     2       0          0      0        0      0     0    0        0\n",
       "\n",
       "[8249 rows x 9 columns]"
      ]
     },
     "execution_count": 65,
     "metadata": {},
     "output_type": "execute_result"
    }
   ],
   "source": [
    "dtm_test_title = pd.DataFrame(title_test_sparse_dtm.toarray(), columns= countvec3.get_feature_names(), index=testdata.index)\n",
    "dtm_test_title"
   ]
  },
  {
   "cell_type": "code",
   "execution_count": 66,
   "id": "0b66c349",
   "metadata": {},
   "outputs": [
    {
     "name": "stderr",
     "output_type": "stream",
     "text": [
      "C:\\Users\\anmol\\anaconda3\\lib\\site-packages\\sklearn\\utils\\deprecation.py:87: FutureWarning: Function get_feature_names is deprecated; get_feature_names is deprecated in 1.0 and will be removed in 1.2. Please use get_feature_names_out instead.\n",
      "  warnings.warn(msg, category=FutureWarning)\n"
     ]
    },
    {
     "data": {
      "text/html": [
       "<div>\n",
       "<style scoped>\n",
       "    .dataframe tbody tr th:only-of-type {\n",
       "        vertical-align: middle;\n",
       "    }\n",
       "\n",
       "    .dataframe tbody tr th {\n",
       "        vertical-align: top;\n",
       "    }\n",
       "\n",
       "    .dataframe thead th {\n",
       "        text-align: right;\n",
       "    }\n",
       "</style>\n",
       "<table border=\"1\" class=\"dataframe\">\n",
       "  <thead>\n",
       "    <tr style=\"text-align: right;\">\n",
       "      <th></th>\n",
       "      <th>cluster</th>\n",
       "      <th>confidenceinterv</th>\n",
       "      <th>correl</th>\n",
       "      <th>crossvalid</th>\n",
       "      <th>hypothesistest</th>\n",
       "      <th>machinelearn</th>\n",
       "      <th>machinelearningneuralnetwork</th>\n",
       "      <th>neuralnetwork</th>\n",
       "      <th>pca</th>\n",
       "      <th>probabilitydistribut</th>\n",
       "      <th>probabl</th>\n",
       "      <th>regress</th>\n",
       "      <th>rmixedmodellmenlm</th>\n",
       "      <th>rregress</th>\n",
       "      <th>statisticalsignific</th>\n",
       "      <th>timeseri</th>\n",
       "    </tr>\n",
       "  </thead>\n",
       "  <tbody>\n",
       "    <tr>\n",
       "      <th>0</th>\n",
       "      <td>0</td>\n",
       "      <td>0</td>\n",
       "      <td>0</td>\n",
       "      <td>0</td>\n",
       "      <td>0</td>\n",
       "      <td>0</td>\n",
       "      <td>0</td>\n",
       "      <td>0</td>\n",
       "      <td>0</td>\n",
       "      <td>0</td>\n",
       "      <td>0</td>\n",
       "      <td>0</td>\n",
       "      <td>0</td>\n",
       "      <td>0</td>\n",
       "      <td>0</td>\n",
       "      <td>0</td>\n",
       "    </tr>\n",
       "    <tr>\n",
       "      <th>1</th>\n",
       "      <td>0</td>\n",
       "      <td>0</td>\n",
       "      <td>0</td>\n",
       "      <td>0</td>\n",
       "      <td>0</td>\n",
       "      <td>0</td>\n",
       "      <td>0</td>\n",
       "      <td>0</td>\n",
       "      <td>0</td>\n",
       "      <td>0</td>\n",
       "      <td>0</td>\n",
       "      <td>0</td>\n",
       "      <td>0</td>\n",
       "      <td>0</td>\n",
       "      <td>0</td>\n",
       "      <td>0</td>\n",
       "    </tr>\n",
       "    <tr>\n",
       "      <th>2</th>\n",
       "      <td>0</td>\n",
       "      <td>0</td>\n",
       "      <td>0</td>\n",
       "      <td>0</td>\n",
       "      <td>0</td>\n",
       "      <td>0</td>\n",
       "      <td>0</td>\n",
       "      <td>0</td>\n",
       "      <td>0</td>\n",
       "      <td>0</td>\n",
       "      <td>0</td>\n",
       "      <td>0</td>\n",
       "      <td>0</td>\n",
       "      <td>0</td>\n",
       "      <td>0</td>\n",
       "      <td>0</td>\n",
       "    </tr>\n",
       "    <tr>\n",
       "      <th>3</th>\n",
       "      <td>0</td>\n",
       "      <td>0</td>\n",
       "      <td>0</td>\n",
       "      <td>0</td>\n",
       "      <td>0</td>\n",
       "      <td>0</td>\n",
       "      <td>0</td>\n",
       "      <td>0</td>\n",
       "      <td>0</td>\n",
       "      <td>0</td>\n",
       "      <td>0</td>\n",
       "      <td>0</td>\n",
       "      <td>0</td>\n",
       "      <td>0</td>\n",
       "      <td>0</td>\n",
       "      <td>0</td>\n",
       "    </tr>\n",
       "    <tr>\n",
       "      <th>4</th>\n",
       "      <td>0</td>\n",
       "      <td>0</td>\n",
       "      <td>0</td>\n",
       "      <td>0</td>\n",
       "      <td>0</td>\n",
       "      <td>0</td>\n",
       "      <td>0</td>\n",
       "      <td>0</td>\n",
       "      <td>0</td>\n",
       "      <td>0</td>\n",
       "      <td>0</td>\n",
       "      <td>0</td>\n",
       "      <td>0</td>\n",
       "      <td>0</td>\n",
       "      <td>0</td>\n",
       "      <td>0</td>\n",
       "    </tr>\n",
       "    <tr>\n",
       "      <th>...</th>\n",
       "      <td>...</td>\n",
       "      <td>...</td>\n",
       "      <td>...</td>\n",
       "      <td>...</td>\n",
       "      <td>...</td>\n",
       "      <td>...</td>\n",
       "      <td>...</td>\n",
       "      <td>...</td>\n",
       "      <td>...</td>\n",
       "      <td>...</td>\n",
       "      <td>...</td>\n",
       "      <td>...</td>\n",
       "      <td>...</td>\n",
       "      <td>...</td>\n",
       "      <td>...</td>\n",
       "      <td>...</td>\n",
       "    </tr>\n",
       "    <tr>\n",
       "      <th>8244</th>\n",
       "      <td>0</td>\n",
       "      <td>0</td>\n",
       "      <td>0</td>\n",
       "      <td>0</td>\n",
       "      <td>0</td>\n",
       "      <td>0</td>\n",
       "      <td>0</td>\n",
       "      <td>0</td>\n",
       "      <td>0</td>\n",
       "      <td>0</td>\n",
       "      <td>0</td>\n",
       "      <td>0</td>\n",
       "      <td>0</td>\n",
       "      <td>0</td>\n",
       "      <td>0</td>\n",
       "      <td>0</td>\n",
       "    </tr>\n",
       "    <tr>\n",
       "      <th>8245</th>\n",
       "      <td>0</td>\n",
       "      <td>0</td>\n",
       "      <td>0</td>\n",
       "      <td>0</td>\n",
       "      <td>0</td>\n",
       "      <td>0</td>\n",
       "      <td>0</td>\n",
       "      <td>0</td>\n",
       "      <td>0</td>\n",
       "      <td>0</td>\n",
       "      <td>0</td>\n",
       "      <td>0</td>\n",
       "      <td>0</td>\n",
       "      <td>0</td>\n",
       "      <td>0</td>\n",
       "      <td>0</td>\n",
       "    </tr>\n",
       "    <tr>\n",
       "      <th>8246</th>\n",
       "      <td>0</td>\n",
       "      <td>0</td>\n",
       "      <td>0</td>\n",
       "      <td>0</td>\n",
       "      <td>0</td>\n",
       "      <td>0</td>\n",
       "      <td>0</td>\n",
       "      <td>0</td>\n",
       "      <td>0</td>\n",
       "      <td>0</td>\n",
       "      <td>0</td>\n",
       "      <td>0</td>\n",
       "      <td>0</td>\n",
       "      <td>0</td>\n",
       "      <td>0</td>\n",
       "      <td>0</td>\n",
       "    </tr>\n",
       "    <tr>\n",
       "      <th>8247</th>\n",
       "      <td>0</td>\n",
       "      <td>0</td>\n",
       "      <td>0</td>\n",
       "      <td>0</td>\n",
       "      <td>0</td>\n",
       "      <td>0</td>\n",
       "      <td>0</td>\n",
       "      <td>0</td>\n",
       "      <td>0</td>\n",
       "      <td>0</td>\n",
       "      <td>0</td>\n",
       "      <td>0</td>\n",
       "      <td>1</td>\n",
       "      <td>0</td>\n",
       "      <td>0</td>\n",
       "      <td>0</td>\n",
       "    </tr>\n",
       "    <tr>\n",
       "      <th>8248</th>\n",
       "      <td>0</td>\n",
       "      <td>0</td>\n",
       "      <td>0</td>\n",
       "      <td>0</td>\n",
       "      <td>0</td>\n",
       "      <td>0</td>\n",
       "      <td>0</td>\n",
       "      <td>0</td>\n",
       "      <td>0</td>\n",
       "      <td>0</td>\n",
       "      <td>0</td>\n",
       "      <td>0</td>\n",
       "      <td>0</td>\n",
       "      <td>0</td>\n",
       "      <td>0</td>\n",
       "      <td>0</td>\n",
       "    </tr>\n",
       "  </tbody>\n",
       "</table>\n",
       "<p>8249 rows × 16 columns</p>\n",
       "</div>"
      ],
      "text/plain": [
       "      cluster  confidenceinterv  correl  crossvalid  hypothesistest  \\\n",
       "0           0                 0       0           0               0   \n",
       "1           0                 0       0           0               0   \n",
       "2           0                 0       0           0               0   \n",
       "3           0                 0       0           0               0   \n",
       "4           0                 0       0           0               0   \n",
       "...       ...               ...     ...         ...             ...   \n",
       "8244        0                 0       0           0               0   \n",
       "8245        0                 0       0           0               0   \n",
       "8246        0                 0       0           0               0   \n",
       "8247        0                 0       0           0               0   \n",
       "8248        0                 0       0           0               0   \n",
       "\n",
       "      machinelearn  machinelearningneuralnetwork  neuralnetwork  pca  \\\n",
       "0                0                             0              0    0   \n",
       "1                0                             0              0    0   \n",
       "2                0                             0              0    0   \n",
       "3                0                             0              0    0   \n",
       "4                0                             0              0    0   \n",
       "...            ...                           ...            ...  ...   \n",
       "8244             0                             0              0    0   \n",
       "8245             0                             0              0    0   \n",
       "8246             0                             0              0    0   \n",
       "8247             0                             0              0    0   \n",
       "8248             0                             0              0    0   \n",
       "\n",
       "      probabilitydistribut  probabl  regress  rmixedmodellmenlm  rregress  \\\n",
       "0                        0        0        0                  0         0   \n",
       "1                        0        0        0                  0         0   \n",
       "2                        0        0        0                  0         0   \n",
       "3                        0        0        0                  0         0   \n",
       "4                        0        0        0                  0         0   \n",
       "...                    ...      ...      ...                ...       ...   \n",
       "8244                     0        0        0                  0         0   \n",
       "8245                     0        0        0                  0         0   \n",
       "8246                     0        0        0                  0         0   \n",
       "8247                     0        0        0                  1         0   \n",
       "8248                     0        0        0                  0         0   \n",
       "\n",
       "      statisticalsignific  timeseri  \n",
       "0                       0         0  \n",
       "1                       0         0  \n",
       "2                       0         0  \n",
       "3                       0         0  \n",
       "4                       0         0  \n",
       "...                   ...       ...  \n",
       "8244                    0         0  \n",
       "8245                    0         0  \n",
       "8246                    0         0  \n",
       "8247                    0         0  \n",
       "8248                    0         0  \n",
       "\n",
       "[8249 rows x 16 columns]"
      ]
     },
     "execution_count": 66,
     "metadata": {},
     "output_type": "execute_result"
    }
   ],
   "source": [
    "dtm_test_tags = pd.DataFrame(tags_testing__sparse_dtm.toarray(), columns= countvec2.get_feature_names(), index=testdata.index)\n",
    "dtm_test_tags"
   ]
  },
  {
   "cell_type": "code",
   "execution_count": 67,
   "id": "19664d02",
   "metadata": {},
   "outputs": [
    {
     "name": "stderr",
     "output_type": "stream",
     "text": [
      "C:\\Users\\anmol\\anaconda3\\lib\\site-packages\\sklearn\\utils\\deprecation.py:87: FutureWarning: Function get_feature_names is deprecated; get_feature_names is deprecated in 1.0 and will be removed in 1.2. Please use get_feature_names_out instead.\n",
      "  warnings.warn(msg, category=FutureWarning)\n"
     ]
    },
    {
     "data": {
      "text/html": [
       "<div>\n",
       "<style scoped>\n",
       "    .dataframe tbody tr th:only-of-type {\n",
       "        vertical-align: middle;\n",
       "    }\n",
       "\n",
       "    .dataframe tbody tr th {\n",
       "        vertical-align: top;\n",
       "    }\n",
       "\n",
       "    .dataframe thead th {\n",
       "        text-align: right;\n",
       "    }\n",
       "</style>\n",
       "<table border=\"1\" class=\"dataframe\">\n",
       "  <thead>\n",
       "    <tr style=\"text-align: right;\">\n",
       "      <th></th>\n",
       "      <th>abl</th>\n",
       "      <th>actual</th>\n",
       "      <th>algorithm</th>\n",
       "      <th>also</th>\n",
       "      <th>analysi</th>\n",
       "      <th>anoth</th>\n",
       "      <th>answer</th>\n",
       "      <th>anyon</th>\n",
       "      <th>appli</th>\n",
       "      <th>appreci</th>\n",
       "      <th>...</th>\n",
       "      <th>want</th>\n",
       "      <th>way</th>\n",
       "      <th>weight</th>\n",
       "      <th>well</th>\n",
       "      <th>whether</th>\n",
       "      <th>without</th>\n",
       "      <th>wonder</th>\n",
       "      <th>work</th>\n",
       "      <th>would</th>\n",
       "      <th>wrong</th>\n",
       "    </tr>\n",
       "  </thead>\n",
       "  <tbody>\n",
       "    <tr>\n",
       "      <th>0</th>\n",
       "      <td>0</td>\n",
       "      <td>0</td>\n",
       "      <td>0</td>\n",
       "      <td>0</td>\n",
       "      <td>0</td>\n",
       "      <td>0</td>\n",
       "      <td>0</td>\n",
       "      <td>0</td>\n",
       "      <td>0</td>\n",
       "      <td>0</td>\n",
       "      <td>...</td>\n",
       "      <td>0</td>\n",
       "      <td>0</td>\n",
       "      <td>0</td>\n",
       "      <td>0</td>\n",
       "      <td>0</td>\n",
       "      <td>0</td>\n",
       "      <td>0</td>\n",
       "      <td>0</td>\n",
       "      <td>1</td>\n",
       "      <td>0</td>\n",
       "    </tr>\n",
       "    <tr>\n",
       "      <th>1</th>\n",
       "      <td>0</td>\n",
       "      <td>0</td>\n",
       "      <td>0</td>\n",
       "      <td>0</td>\n",
       "      <td>0</td>\n",
       "      <td>0</td>\n",
       "      <td>1</td>\n",
       "      <td>0</td>\n",
       "      <td>0</td>\n",
       "      <td>0</td>\n",
       "      <td>...</td>\n",
       "      <td>0</td>\n",
       "      <td>0</td>\n",
       "      <td>0</td>\n",
       "      <td>0</td>\n",
       "      <td>0</td>\n",
       "      <td>0</td>\n",
       "      <td>0</td>\n",
       "      <td>0</td>\n",
       "      <td>0</td>\n",
       "      <td>0</td>\n",
       "    </tr>\n",
       "    <tr>\n",
       "      <th>2</th>\n",
       "      <td>0</td>\n",
       "      <td>0</td>\n",
       "      <td>0</td>\n",
       "      <td>0</td>\n",
       "      <td>0</td>\n",
       "      <td>0</td>\n",
       "      <td>0</td>\n",
       "      <td>0</td>\n",
       "      <td>0</td>\n",
       "      <td>0</td>\n",
       "      <td>...</td>\n",
       "      <td>0</td>\n",
       "      <td>1</td>\n",
       "      <td>0</td>\n",
       "      <td>0</td>\n",
       "      <td>0</td>\n",
       "      <td>0</td>\n",
       "      <td>0</td>\n",
       "      <td>0</td>\n",
       "      <td>0</td>\n",
       "      <td>0</td>\n",
       "    </tr>\n",
       "    <tr>\n",
       "      <th>3</th>\n",
       "      <td>0</td>\n",
       "      <td>0</td>\n",
       "      <td>2</td>\n",
       "      <td>0</td>\n",
       "      <td>0</td>\n",
       "      <td>0</td>\n",
       "      <td>0</td>\n",
       "      <td>0</td>\n",
       "      <td>0</td>\n",
       "      <td>0</td>\n",
       "      <td>...</td>\n",
       "      <td>0</td>\n",
       "      <td>0</td>\n",
       "      <td>0</td>\n",
       "      <td>2</td>\n",
       "      <td>0</td>\n",
       "      <td>0</td>\n",
       "      <td>0</td>\n",
       "      <td>0</td>\n",
       "      <td>0</td>\n",
       "      <td>0</td>\n",
       "    </tr>\n",
       "    <tr>\n",
       "      <th>4</th>\n",
       "      <td>0</td>\n",
       "      <td>0</td>\n",
       "      <td>1</td>\n",
       "      <td>0</td>\n",
       "      <td>0</td>\n",
       "      <td>1</td>\n",
       "      <td>0</td>\n",
       "      <td>0</td>\n",
       "      <td>0</td>\n",
       "      <td>0</td>\n",
       "      <td>...</td>\n",
       "      <td>0</td>\n",
       "      <td>1</td>\n",
       "      <td>0</td>\n",
       "      <td>1</td>\n",
       "      <td>0</td>\n",
       "      <td>0</td>\n",
       "      <td>0</td>\n",
       "      <td>1</td>\n",
       "      <td>0</td>\n",
       "      <td>0</td>\n",
       "    </tr>\n",
       "    <tr>\n",
       "      <th>...</th>\n",
       "      <td>...</td>\n",
       "      <td>...</td>\n",
       "      <td>...</td>\n",
       "      <td>...</td>\n",
       "      <td>...</td>\n",
       "      <td>...</td>\n",
       "      <td>...</td>\n",
       "      <td>...</td>\n",
       "      <td>...</td>\n",
       "      <td>...</td>\n",
       "      <td>...</td>\n",
       "      <td>...</td>\n",
       "      <td>...</td>\n",
       "      <td>...</td>\n",
       "      <td>...</td>\n",
       "      <td>...</td>\n",
       "      <td>...</td>\n",
       "      <td>...</td>\n",
       "      <td>...</td>\n",
       "      <td>...</td>\n",
       "      <td>...</td>\n",
       "    </tr>\n",
       "    <tr>\n",
       "      <th>8244</th>\n",
       "      <td>0</td>\n",
       "      <td>0</td>\n",
       "      <td>0</td>\n",
       "      <td>0</td>\n",
       "      <td>0</td>\n",
       "      <td>0</td>\n",
       "      <td>0</td>\n",
       "      <td>0</td>\n",
       "      <td>0</td>\n",
       "      <td>0</td>\n",
       "      <td>...</td>\n",
       "      <td>0</td>\n",
       "      <td>1</td>\n",
       "      <td>0</td>\n",
       "      <td>0</td>\n",
       "      <td>0</td>\n",
       "      <td>0</td>\n",
       "      <td>0</td>\n",
       "      <td>1</td>\n",
       "      <td>2</td>\n",
       "      <td>0</td>\n",
       "    </tr>\n",
       "    <tr>\n",
       "      <th>8245</th>\n",
       "      <td>0</td>\n",
       "      <td>0</td>\n",
       "      <td>0</td>\n",
       "      <td>8</td>\n",
       "      <td>9</td>\n",
       "      <td>0</td>\n",
       "      <td>0</td>\n",
       "      <td>0</td>\n",
       "      <td>0</td>\n",
       "      <td>0</td>\n",
       "      <td>...</td>\n",
       "      <td>2</td>\n",
       "      <td>0</td>\n",
       "      <td>0</td>\n",
       "      <td>0</td>\n",
       "      <td>0</td>\n",
       "      <td>0</td>\n",
       "      <td>0</td>\n",
       "      <td>0</td>\n",
       "      <td>0</td>\n",
       "      <td>0</td>\n",
       "    </tr>\n",
       "    <tr>\n",
       "      <th>8246</th>\n",
       "      <td>0</td>\n",
       "      <td>0</td>\n",
       "      <td>0</td>\n",
       "      <td>0</td>\n",
       "      <td>0</td>\n",
       "      <td>0</td>\n",
       "      <td>0</td>\n",
       "      <td>0</td>\n",
       "      <td>0</td>\n",
       "      <td>0</td>\n",
       "      <td>...</td>\n",
       "      <td>1</td>\n",
       "      <td>1</td>\n",
       "      <td>0</td>\n",
       "      <td>0</td>\n",
       "      <td>0</td>\n",
       "      <td>0</td>\n",
       "      <td>0</td>\n",
       "      <td>0</td>\n",
       "      <td>0</td>\n",
       "      <td>0</td>\n",
       "    </tr>\n",
       "    <tr>\n",
       "      <th>8247</th>\n",
       "      <td>0</td>\n",
       "      <td>0</td>\n",
       "      <td>0</td>\n",
       "      <td>0</td>\n",
       "      <td>0</td>\n",
       "      <td>0</td>\n",
       "      <td>0</td>\n",
       "      <td>0</td>\n",
       "      <td>0</td>\n",
       "      <td>0</td>\n",
       "      <td>...</td>\n",
       "      <td>0</td>\n",
       "      <td>0</td>\n",
       "      <td>0</td>\n",
       "      <td>0</td>\n",
       "      <td>0</td>\n",
       "      <td>0</td>\n",
       "      <td>0</td>\n",
       "      <td>0</td>\n",
       "      <td>1</td>\n",
       "      <td>0</td>\n",
       "    </tr>\n",
       "    <tr>\n",
       "      <th>8248</th>\n",
       "      <td>0</td>\n",
       "      <td>0</td>\n",
       "      <td>0</td>\n",
       "      <td>0</td>\n",
       "      <td>0</td>\n",
       "      <td>0</td>\n",
       "      <td>0</td>\n",
       "      <td>0</td>\n",
       "      <td>1</td>\n",
       "      <td>0</td>\n",
       "      <td>...</td>\n",
       "      <td>1</td>\n",
       "      <td>1</td>\n",
       "      <td>0</td>\n",
       "      <td>4</td>\n",
       "      <td>0</td>\n",
       "      <td>0</td>\n",
       "      <td>0</td>\n",
       "      <td>1</td>\n",
       "      <td>1</td>\n",
       "      <td>0</td>\n",
       "    </tr>\n",
       "  </tbody>\n",
       "</table>\n",
       "<p>8249 rows × 187 columns</p>\n",
       "</div>"
      ],
      "text/plain": [
       "      abl  actual  algorithm  also  analysi  anoth  answer  anyon  appli  \\\n",
       "0       0       0          0     0        0      0       0      0      0   \n",
       "1       0       0          0     0        0      0       1      0      0   \n",
       "2       0       0          0     0        0      0       0      0      0   \n",
       "3       0       0          2     0        0      0       0      0      0   \n",
       "4       0       0          1     0        0      1       0      0      0   \n",
       "...   ...     ...        ...   ...      ...    ...     ...    ...    ...   \n",
       "8244    0       0          0     0        0      0       0      0      0   \n",
       "8245    0       0          0     8        9      0       0      0      0   \n",
       "8246    0       0          0     0        0      0       0      0      0   \n",
       "8247    0       0          0     0        0      0       0      0      0   \n",
       "8248    0       0          0     0        0      0       0      0      1   \n",
       "\n",
       "      appreci  ...  want  way  weight  well  whether  without  wonder  work  \\\n",
       "0           0  ...     0    0       0     0        0        0       0     0   \n",
       "1           0  ...     0    0       0     0        0        0       0     0   \n",
       "2           0  ...     0    1       0     0        0        0       0     0   \n",
       "3           0  ...     0    0       0     2        0        0       0     0   \n",
       "4           0  ...     0    1       0     1        0        0       0     1   \n",
       "...       ...  ...   ...  ...     ...   ...      ...      ...     ...   ...   \n",
       "8244        0  ...     0    1       0     0        0        0       0     1   \n",
       "8245        0  ...     2    0       0     0        0        0       0     0   \n",
       "8246        0  ...     1    1       0     0        0        0       0     0   \n",
       "8247        0  ...     0    0       0     0        0        0       0     0   \n",
       "8248        0  ...     1    1       0     4        0        0       0     1   \n",
       "\n",
       "      would  wrong  \n",
       "0         1      0  \n",
       "1         0      0  \n",
       "2         0      0  \n",
       "3         0      0  \n",
       "4         0      0  \n",
       "...     ...    ...  \n",
       "8244      2      0  \n",
       "8245      0      0  \n",
       "8246      0      0  \n",
       "8247      1      0  \n",
       "8248      1      0  \n",
       "\n",
       "[8249 rows x 187 columns]"
      ]
     },
     "execution_count": 67,
     "metadata": {},
     "output_type": "execute_result"
    }
   ],
   "source": [
    "dtm_test_body = pd.DataFrame(body_testing_sparse_dtm.toarray(), columns= countvec1.get_feature_names(), index=testdata.index)\n",
    "dtm_test_body"
   ]
  },
  {
   "cell_type": "code",
   "execution_count": 68,
   "id": "1854af33",
   "metadata": {
    "scrolled": true
   },
   "outputs": [
    {
     "name": "stderr",
     "output_type": "stream",
     "text": [
      "C:\\Users\\anmol\\anaconda3\\lib\\site-packages\\sklearn\\utils\\deprecation.py:87: FutureWarning: Function get_feature_names is deprecated; get_feature_names is deprecated in 1.0 and will be removed in 1.2. Please use get_feature_names_out instead.\n",
      "  warnings.warn(msg, category=FutureWarning)\n"
     ]
    },
    {
     "data": {
      "text/html": [
       "<div>\n",
       "<style scoped>\n",
       "    .dataframe tbody tr th:only-of-type {\n",
       "        vertical-align: middle;\n",
       "    }\n",
       "\n",
       "    .dataframe tbody tr th {\n",
       "        vertical-align: top;\n",
       "    }\n",
       "\n",
       "    .dataframe thead th {\n",
       "        text-align: right;\n",
       "    }\n",
       "</style>\n",
       "<table border=\"1\" class=\"dataframe\">\n",
       "  <thead>\n",
       "    <tr style=\"text-align: right;\">\n",
       "      <th></th>\n",
       "      <th>abl</th>\n",
       "      <th>actual</th>\n",
       "      <th>algorithm</th>\n",
       "      <th>also</th>\n",
       "      <th>analysi</th>\n",
       "      <th>anoth</th>\n",
       "      <th>answer</th>\n",
       "      <th>anyon</th>\n",
       "      <th>appli</th>\n",
       "      <th>appreci</th>\n",
       "      <th>...</th>\n",
       "      <th>want</th>\n",
       "      <th>way</th>\n",
       "      <th>weight</th>\n",
       "      <th>well</th>\n",
       "      <th>whether</th>\n",
       "      <th>without</th>\n",
       "      <th>wonder</th>\n",
       "      <th>work</th>\n",
       "      <th>would</th>\n",
       "      <th>wrong</th>\n",
       "    </tr>\n",
       "  </thead>\n",
       "  <tbody>\n",
       "    <tr>\n",
       "      <th>0</th>\n",
       "      <td>0</td>\n",
       "      <td>0</td>\n",
       "      <td>0</td>\n",
       "      <td>0</td>\n",
       "      <td>0</td>\n",
       "      <td>0</td>\n",
       "      <td>0</td>\n",
       "      <td>0</td>\n",
       "      <td>0</td>\n",
       "      <td>0</td>\n",
       "      <td>...</td>\n",
       "      <td>0</td>\n",
       "      <td>0</td>\n",
       "      <td>0</td>\n",
       "      <td>0</td>\n",
       "      <td>0</td>\n",
       "      <td>0</td>\n",
       "      <td>0</td>\n",
       "      <td>0</td>\n",
       "      <td>0</td>\n",
       "      <td>0</td>\n",
       "    </tr>\n",
       "    <tr>\n",
       "      <th>1</th>\n",
       "      <td>0</td>\n",
       "      <td>0</td>\n",
       "      <td>0</td>\n",
       "      <td>0</td>\n",
       "      <td>0</td>\n",
       "      <td>0</td>\n",
       "      <td>2</td>\n",
       "      <td>0</td>\n",
       "      <td>0</td>\n",
       "      <td>0</td>\n",
       "      <td>...</td>\n",
       "      <td>0</td>\n",
       "      <td>0</td>\n",
       "      <td>0</td>\n",
       "      <td>0</td>\n",
       "      <td>0</td>\n",
       "      <td>0</td>\n",
       "      <td>0</td>\n",
       "      <td>0</td>\n",
       "      <td>0</td>\n",
       "      <td>0</td>\n",
       "    </tr>\n",
       "    <tr>\n",
       "      <th>2</th>\n",
       "      <td>0</td>\n",
       "      <td>0</td>\n",
       "      <td>0</td>\n",
       "      <td>0</td>\n",
       "      <td>0</td>\n",
       "      <td>0</td>\n",
       "      <td>1</td>\n",
       "      <td>0</td>\n",
       "      <td>0</td>\n",
       "      <td>0</td>\n",
       "      <td>...</td>\n",
       "      <td>0</td>\n",
       "      <td>0</td>\n",
       "      <td>0</td>\n",
       "      <td>0</td>\n",
       "      <td>0</td>\n",
       "      <td>0</td>\n",
       "      <td>0</td>\n",
       "      <td>0</td>\n",
       "      <td>1</td>\n",
       "      <td>0</td>\n",
       "    </tr>\n",
       "    <tr>\n",
       "      <th>3</th>\n",
       "      <td>0</td>\n",
       "      <td>0</td>\n",
       "      <td>0</td>\n",
       "      <td>0</td>\n",
       "      <td>0</td>\n",
       "      <td>0</td>\n",
       "      <td>0</td>\n",
       "      <td>0</td>\n",
       "      <td>0</td>\n",
       "      <td>0</td>\n",
       "      <td>...</td>\n",
       "      <td>0</td>\n",
       "      <td>1</td>\n",
       "      <td>0</td>\n",
       "      <td>1</td>\n",
       "      <td>0</td>\n",
       "      <td>0</td>\n",
       "      <td>0</td>\n",
       "      <td>0</td>\n",
       "      <td>0</td>\n",
       "      <td>0</td>\n",
       "    </tr>\n",
       "    <tr>\n",
       "      <th>4</th>\n",
       "      <td>0</td>\n",
       "      <td>0</td>\n",
       "      <td>0</td>\n",
       "      <td>0</td>\n",
       "      <td>0</td>\n",
       "      <td>0</td>\n",
       "      <td>0</td>\n",
       "      <td>0</td>\n",
       "      <td>0</td>\n",
       "      <td>0</td>\n",
       "      <td>...</td>\n",
       "      <td>0</td>\n",
       "      <td>0</td>\n",
       "      <td>0</td>\n",
       "      <td>0</td>\n",
       "      <td>0</td>\n",
       "      <td>0</td>\n",
       "      <td>0</td>\n",
       "      <td>0</td>\n",
       "      <td>2</td>\n",
       "      <td>0</td>\n",
       "    </tr>\n",
       "    <tr>\n",
       "      <th>...</th>\n",
       "      <td>...</td>\n",
       "      <td>...</td>\n",
       "      <td>...</td>\n",
       "      <td>...</td>\n",
       "      <td>...</td>\n",
       "      <td>...</td>\n",
       "      <td>...</td>\n",
       "      <td>...</td>\n",
       "      <td>...</td>\n",
       "      <td>...</td>\n",
       "      <td>...</td>\n",
       "      <td>...</td>\n",
       "      <td>...</td>\n",
       "      <td>...</td>\n",
       "      <td>...</td>\n",
       "      <td>...</td>\n",
       "      <td>...</td>\n",
       "      <td>...</td>\n",
       "      <td>...</td>\n",
       "      <td>...</td>\n",
       "      <td>...</td>\n",
       "    </tr>\n",
       "    <tr>\n",
       "      <th>19242</th>\n",
       "      <td>2</td>\n",
       "      <td>0</td>\n",
       "      <td>1</td>\n",
       "      <td>0</td>\n",
       "      <td>0</td>\n",
       "      <td>1</td>\n",
       "      <td>0</td>\n",
       "      <td>0</td>\n",
       "      <td>0</td>\n",
       "      <td>0</td>\n",
       "      <td>...</td>\n",
       "      <td>0</td>\n",
       "      <td>0</td>\n",
       "      <td>0</td>\n",
       "      <td>0</td>\n",
       "      <td>0</td>\n",
       "      <td>0</td>\n",
       "      <td>1</td>\n",
       "      <td>0</td>\n",
       "      <td>0</td>\n",
       "      <td>0</td>\n",
       "    </tr>\n",
       "    <tr>\n",
       "      <th>19243</th>\n",
       "      <td>0</td>\n",
       "      <td>0</td>\n",
       "      <td>0</td>\n",
       "      <td>1</td>\n",
       "      <td>0</td>\n",
       "      <td>0</td>\n",
       "      <td>0</td>\n",
       "      <td>0</td>\n",
       "      <td>0</td>\n",
       "      <td>0</td>\n",
       "      <td>...</td>\n",
       "      <td>0</td>\n",
       "      <td>1</td>\n",
       "      <td>0</td>\n",
       "      <td>0</td>\n",
       "      <td>0</td>\n",
       "      <td>0</td>\n",
       "      <td>0</td>\n",
       "      <td>2</td>\n",
       "      <td>1</td>\n",
       "      <td>0</td>\n",
       "    </tr>\n",
       "    <tr>\n",
       "      <th>19244</th>\n",
       "      <td>0</td>\n",
       "      <td>0</td>\n",
       "      <td>0</td>\n",
       "      <td>1</td>\n",
       "      <td>0</td>\n",
       "      <td>0</td>\n",
       "      <td>0</td>\n",
       "      <td>0</td>\n",
       "      <td>0</td>\n",
       "      <td>0</td>\n",
       "      <td>...</td>\n",
       "      <td>1</td>\n",
       "      <td>1</td>\n",
       "      <td>0</td>\n",
       "      <td>0</td>\n",
       "      <td>0</td>\n",
       "      <td>0</td>\n",
       "      <td>1</td>\n",
       "      <td>0</td>\n",
       "      <td>0</td>\n",
       "      <td>0</td>\n",
       "    </tr>\n",
       "    <tr>\n",
       "      <th>19245</th>\n",
       "      <td>0</td>\n",
       "      <td>0</td>\n",
       "      <td>0</td>\n",
       "      <td>0</td>\n",
       "      <td>0</td>\n",
       "      <td>0</td>\n",
       "      <td>0</td>\n",
       "      <td>0</td>\n",
       "      <td>0</td>\n",
       "      <td>0</td>\n",
       "      <td>...</td>\n",
       "      <td>0</td>\n",
       "      <td>0</td>\n",
       "      <td>0</td>\n",
       "      <td>0</td>\n",
       "      <td>0</td>\n",
       "      <td>0</td>\n",
       "      <td>1</td>\n",
       "      <td>0</td>\n",
       "      <td>2</td>\n",
       "      <td>0</td>\n",
       "    </tr>\n",
       "    <tr>\n",
       "      <th>19246</th>\n",
       "      <td>0</td>\n",
       "      <td>0</td>\n",
       "      <td>0</td>\n",
       "      <td>0</td>\n",
       "      <td>0</td>\n",
       "      <td>0</td>\n",
       "      <td>0</td>\n",
       "      <td>0</td>\n",
       "      <td>0</td>\n",
       "      <td>0</td>\n",
       "      <td>...</td>\n",
       "      <td>1</td>\n",
       "      <td>0</td>\n",
       "      <td>0</td>\n",
       "      <td>0</td>\n",
       "      <td>0</td>\n",
       "      <td>0</td>\n",
       "      <td>0</td>\n",
       "      <td>0</td>\n",
       "      <td>2</td>\n",
       "      <td>0</td>\n",
       "    </tr>\n",
       "  </tbody>\n",
       "</table>\n",
       "<p>19247 rows × 187 columns</p>\n",
       "</div>"
      ],
      "text/plain": [
       "       abl  actual  algorithm  also  analysi  anoth  answer  anyon  appli  \\\n",
       "0        0       0          0     0        0      0       0      0      0   \n",
       "1        0       0          0     0        0      0       2      0      0   \n",
       "2        0       0          0     0        0      0       1      0      0   \n",
       "3        0       0          0     0        0      0       0      0      0   \n",
       "4        0       0          0     0        0      0       0      0      0   \n",
       "...    ...     ...        ...   ...      ...    ...     ...    ...    ...   \n",
       "19242    2       0          1     0        0      1       0      0      0   \n",
       "19243    0       0          0     1        0      0       0      0      0   \n",
       "19244    0       0          0     1        0      0       0      0      0   \n",
       "19245    0       0          0     0        0      0       0      0      0   \n",
       "19246    0       0          0     0        0      0       0      0      0   \n",
       "\n",
       "       appreci  ...  want  way  weight  well  whether  without  wonder  work  \\\n",
       "0            0  ...     0    0       0     0        0        0       0     0   \n",
       "1            0  ...     0    0       0     0        0        0       0     0   \n",
       "2            0  ...     0    0       0     0        0        0       0     0   \n",
       "3            0  ...     0    1       0     1        0        0       0     0   \n",
       "4            0  ...     0    0       0     0        0        0       0     0   \n",
       "...        ...  ...   ...  ...     ...   ...      ...      ...     ...   ...   \n",
       "19242        0  ...     0    0       0     0        0        0       1     0   \n",
       "19243        0  ...     0    1       0     0        0        0       0     2   \n",
       "19244        0  ...     1    1       0     0        0        0       1     0   \n",
       "19245        0  ...     0    0       0     0        0        0       1     0   \n",
       "19246        0  ...     1    0       0     0        0        0       0     0   \n",
       "\n",
       "       would  wrong  \n",
       "0          0      0  \n",
       "1          0      0  \n",
       "2          1      0  \n",
       "3          0      0  \n",
       "4          2      0  \n",
       "...      ...    ...  \n",
       "19242      0      0  \n",
       "19243      1      0  \n",
       "19244      0      0  \n",
       "19245      2      0  \n",
       "19246      2      0  \n",
       "\n",
       "[19247 rows x 187 columns]"
      ]
     },
     "execution_count": 68,
     "metadata": {},
     "output_type": "execute_result"
    }
   ],
   "source": [
    "dtm_train_body = pd.DataFrame(body_training_sparse_dtm.toarray(), columns=countvec1.get_feature_names(), index=traindata.index)\n",
    "dtm_train_body"
   ]
  },
  {
   "cell_type": "code",
   "execution_count": 69,
   "id": "99ad2015",
   "metadata": {},
   "outputs": [
    {
     "name": "stderr",
     "output_type": "stream",
     "text": [
      "C:\\Users\\anmol\\anaconda3\\lib\\site-packages\\sklearn\\utils\\deprecation.py:87: FutureWarning: Function get_feature_names is deprecated; get_feature_names is deprecated in 1.0 and will be removed in 1.2. Please use get_feature_names_out instead.\n",
      "  warnings.warn(msg, category=FutureWarning)\n"
     ]
    },
    {
     "data": {
      "text/html": [
       "<div>\n",
       "<style scoped>\n",
       "    .dataframe tbody tr th:only-of-type {\n",
       "        vertical-align: middle;\n",
       "    }\n",
       "\n",
       "    .dataframe tbody tr th {\n",
       "        vertical-align: top;\n",
       "    }\n",
       "\n",
       "    .dataframe thead th {\n",
       "        text-align: right;\n",
       "    }\n",
       "</style>\n",
       "<table border=\"1\" class=\"dataframe\">\n",
       "  <thead>\n",
       "    <tr style=\"text-align: right;\">\n",
       "      <th></th>\n",
       "      <th>cluster</th>\n",
       "      <th>confidenceinterv</th>\n",
       "      <th>correl</th>\n",
       "      <th>crossvalid</th>\n",
       "      <th>hypothesistest</th>\n",
       "      <th>machinelearn</th>\n",
       "      <th>machinelearningneuralnetwork</th>\n",
       "      <th>neuralnetwork</th>\n",
       "      <th>pca</th>\n",
       "      <th>probabilitydistribut</th>\n",
       "      <th>probabl</th>\n",
       "      <th>regress</th>\n",
       "      <th>rmixedmodellmenlm</th>\n",
       "      <th>rregress</th>\n",
       "      <th>statisticalsignific</th>\n",
       "      <th>timeseri</th>\n",
       "    </tr>\n",
       "  </thead>\n",
       "  <tbody>\n",
       "    <tr>\n",
       "      <th>0</th>\n",
       "      <td>0</td>\n",
       "      <td>0</td>\n",
       "      <td>0</td>\n",
       "      <td>0</td>\n",
       "      <td>0</td>\n",
       "      <td>0</td>\n",
       "      <td>0</td>\n",
       "      <td>0</td>\n",
       "      <td>0</td>\n",
       "      <td>0</td>\n",
       "      <td>0</td>\n",
       "      <td>0</td>\n",
       "      <td>0</td>\n",
       "      <td>0</td>\n",
       "      <td>0</td>\n",
       "      <td>0</td>\n",
       "    </tr>\n",
       "    <tr>\n",
       "      <th>1</th>\n",
       "      <td>0</td>\n",
       "      <td>0</td>\n",
       "      <td>0</td>\n",
       "      <td>0</td>\n",
       "      <td>0</td>\n",
       "      <td>0</td>\n",
       "      <td>0</td>\n",
       "      <td>0</td>\n",
       "      <td>0</td>\n",
       "      <td>0</td>\n",
       "      <td>0</td>\n",
       "      <td>0</td>\n",
       "      <td>0</td>\n",
       "      <td>0</td>\n",
       "      <td>0</td>\n",
       "      <td>0</td>\n",
       "    </tr>\n",
       "    <tr>\n",
       "      <th>2</th>\n",
       "      <td>0</td>\n",
       "      <td>0</td>\n",
       "      <td>0</td>\n",
       "      <td>0</td>\n",
       "      <td>0</td>\n",
       "      <td>0</td>\n",
       "      <td>0</td>\n",
       "      <td>0</td>\n",
       "      <td>0</td>\n",
       "      <td>0</td>\n",
       "      <td>0</td>\n",
       "      <td>0</td>\n",
       "      <td>0</td>\n",
       "      <td>0</td>\n",
       "      <td>0</td>\n",
       "      <td>0</td>\n",
       "    </tr>\n",
       "    <tr>\n",
       "      <th>3</th>\n",
       "      <td>0</td>\n",
       "      <td>0</td>\n",
       "      <td>0</td>\n",
       "      <td>0</td>\n",
       "      <td>0</td>\n",
       "      <td>0</td>\n",
       "      <td>0</td>\n",
       "      <td>0</td>\n",
       "      <td>0</td>\n",
       "      <td>0</td>\n",
       "      <td>0</td>\n",
       "      <td>0</td>\n",
       "      <td>0</td>\n",
       "      <td>0</td>\n",
       "      <td>0</td>\n",
       "      <td>0</td>\n",
       "    </tr>\n",
       "    <tr>\n",
       "      <th>4</th>\n",
       "      <td>0</td>\n",
       "      <td>0</td>\n",
       "      <td>0</td>\n",
       "      <td>0</td>\n",
       "      <td>0</td>\n",
       "      <td>0</td>\n",
       "      <td>0</td>\n",
       "      <td>0</td>\n",
       "      <td>0</td>\n",
       "      <td>0</td>\n",
       "      <td>0</td>\n",
       "      <td>0</td>\n",
       "      <td>0</td>\n",
       "      <td>0</td>\n",
       "      <td>0</td>\n",
       "      <td>0</td>\n",
       "    </tr>\n",
       "    <tr>\n",
       "      <th>...</th>\n",
       "      <td>...</td>\n",
       "      <td>...</td>\n",
       "      <td>...</td>\n",
       "      <td>...</td>\n",
       "      <td>...</td>\n",
       "      <td>...</td>\n",
       "      <td>...</td>\n",
       "      <td>...</td>\n",
       "      <td>...</td>\n",
       "      <td>...</td>\n",
       "      <td>...</td>\n",
       "      <td>...</td>\n",
       "      <td>...</td>\n",
       "      <td>...</td>\n",
       "      <td>...</td>\n",
       "      <td>...</td>\n",
       "    </tr>\n",
       "    <tr>\n",
       "      <th>19242</th>\n",
       "      <td>0</td>\n",
       "      <td>0</td>\n",
       "      <td>0</td>\n",
       "      <td>0</td>\n",
       "      <td>0</td>\n",
       "      <td>0</td>\n",
       "      <td>0</td>\n",
       "      <td>0</td>\n",
       "      <td>0</td>\n",
       "      <td>0</td>\n",
       "      <td>0</td>\n",
       "      <td>0</td>\n",
       "      <td>0</td>\n",
       "      <td>0</td>\n",
       "      <td>0</td>\n",
       "      <td>0</td>\n",
       "    </tr>\n",
       "    <tr>\n",
       "      <th>19243</th>\n",
       "      <td>0</td>\n",
       "      <td>0</td>\n",
       "      <td>0</td>\n",
       "      <td>0</td>\n",
       "      <td>0</td>\n",
       "      <td>0</td>\n",
       "      <td>0</td>\n",
       "      <td>0</td>\n",
       "      <td>0</td>\n",
       "      <td>0</td>\n",
       "      <td>0</td>\n",
       "      <td>0</td>\n",
       "      <td>0</td>\n",
       "      <td>0</td>\n",
       "      <td>0</td>\n",
       "      <td>0</td>\n",
       "    </tr>\n",
       "    <tr>\n",
       "      <th>19244</th>\n",
       "      <td>0</td>\n",
       "      <td>0</td>\n",
       "      <td>0</td>\n",
       "      <td>0</td>\n",
       "      <td>0</td>\n",
       "      <td>0</td>\n",
       "      <td>0</td>\n",
       "      <td>0</td>\n",
       "      <td>0</td>\n",
       "      <td>0</td>\n",
       "      <td>0</td>\n",
       "      <td>0</td>\n",
       "      <td>0</td>\n",
       "      <td>0</td>\n",
       "      <td>0</td>\n",
       "      <td>0</td>\n",
       "    </tr>\n",
       "    <tr>\n",
       "      <th>19245</th>\n",
       "      <td>0</td>\n",
       "      <td>0</td>\n",
       "      <td>0</td>\n",
       "      <td>0</td>\n",
       "      <td>0</td>\n",
       "      <td>0</td>\n",
       "      <td>0</td>\n",
       "      <td>0</td>\n",
       "      <td>0</td>\n",
       "      <td>0</td>\n",
       "      <td>0</td>\n",
       "      <td>0</td>\n",
       "      <td>0</td>\n",
       "      <td>0</td>\n",
       "      <td>0</td>\n",
       "      <td>0</td>\n",
       "    </tr>\n",
       "    <tr>\n",
       "      <th>19246</th>\n",
       "      <td>0</td>\n",
       "      <td>0</td>\n",
       "      <td>0</td>\n",
       "      <td>0</td>\n",
       "      <td>0</td>\n",
       "      <td>0</td>\n",
       "      <td>0</td>\n",
       "      <td>0</td>\n",
       "      <td>0</td>\n",
       "      <td>0</td>\n",
       "      <td>0</td>\n",
       "      <td>0</td>\n",
       "      <td>0</td>\n",
       "      <td>0</td>\n",
       "      <td>0</td>\n",
       "      <td>0</td>\n",
       "    </tr>\n",
       "  </tbody>\n",
       "</table>\n",
       "<p>19247 rows × 16 columns</p>\n",
       "</div>"
      ],
      "text/plain": [
       "       cluster  confidenceinterv  correl  crossvalid  hypothesistest  \\\n",
       "0            0                 0       0           0               0   \n",
       "1            0                 0       0           0               0   \n",
       "2            0                 0       0           0               0   \n",
       "3            0                 0       0           0               0   \n",
       "4            0                 0       0           0               0   \n",
       "...        ...               ...     ...         ...             ...   \n",
       "19242        0                 0       0           0               0   \n",
       "19243        0                 0       0           0               0   \n",
       "19244        0                 0       0           0               0   \n",
       "19245        0                 0       0           0               0   \n",
       "19246        0                 0       0           0               0   \n",
       "\n",
       "       machinelearn  machinelearningneuralnetwork  neuralnetwork  pca  \\\n",
       "0                 0                             0              0    0   \n",
       "1                 0                             0              0    0   \n",
       "2                 0                             0              0    0   \n",
       "3                 0                             0              0    0   \n",
       "4                 0                             0              0    0   \n",
       "...             ...                           ...            ...  ...   \n",
       "19242             0                             0              0    0   \n",
       "19243             0                             0              0    0   \n",
       "19244             0                             0              0    0   \n",
       "19245             0                             0              0    0   \n",
       "19246             0                             0              0    0   \n",
       "\n",
       "       probabilitydistribut  probabl  regress  rmixedmodellmenlm  rregress  \\\n",
       "0                         0        0        0                  0         0   \n",
       "1                         0        0        0                  0         0   \n",
       "2                         0        0        0                  0         0   \n",
       "3                         0        0        0                  0         0   \n",
       "4                         0        0        0                  0         0   \n",
       "...                     ...      ...      ...                ...       ...   \n",
       "19242                     0        0        0                  0         0   \n",
       "19243                     0        0        0                  0         0   \n",
       "19244                     0        0        0                  0         0   \n",
       "19245                     0        0        0                  0         0   \n",
       "19246                     0        0        0                  0         0   \n",
       "\n",
       "       statisticalsignific  timeseri  \n",
       "0                        0         0  \n",
       "1                        0         0  \n",
       "2                        0         0  \n",
       "3                        0         0  \n",
       "4                        0         0  \n",
       "...                    ...       ...  \n",
       "19242                    0         0  \n",
       "19243                    0         0  \n",
       "19244                    0         0  \n",
       "19245                    0         0  \n",
       "19246                    0         0  \n",
       "\n",
       "[19247 rows x 16 columns]"
      ]
     },
     "execution_count": 69,
     "metadata": {},
     "output_type": "execute_result"
    }
   ],
   "source": [
    "dtm_train_tags = pd.DataFrame(tags_training_sparse_dtm.toarray(), columns=countvec2.get_feature_names(), index=traindata.index)\n",
    "dtm_train_tags"
   ]
  },
  {
   "cell_type": "code",
   "execution_count": 70,
   "id": "7889c4ea",
   "metadata": {},
   "outputs": [
    {
     "name": "stderr",
     "output_type": "stream",
     "text": [
      "C:\\Users\\anmol\\anaconda3\\lib\\site-packages\\sklearn\\utils\\deprecation.py:87: FutureWarning: Function get_feature_names is deprecated; get_feature_names is deprecated in 1.0 and will be removed in 1.2. Please use get_feature_names_out instead.\n",
      "  warnings.warn(msg, category=FutureWarning)\n"
     ]
    },
    {
     "data": {
      "text/html": [
       "<div>\n",
       "<style scoped>\n",
       "    .dataframe tbody tr th:only-of-type {\n",
       "        vertical-align: middle;\n",
       "    }\n",
       "\n",
       "    .dataframe tbody tr th {\n",
       "        vertical-align: top;\n",
       "    }\n",
       "\n",
       "    .dataframe thead th {\n",
       "        text-align: right;\n",
       "    }\n",
       "</style>\n",
       "<table border=\"1\" class=\"dataframe\">\n",
       "  <thead>\n",
       "    <tr style=\"text-align: right;\">\n",
       "      <th></th>\n",
       "      <th>data</th>\n",
       "      <th>differ</th>\n",
       "      <th>distribut</th>\n",
       "      <th>model</th>\n",
       "      <th>regress</th>\n",
       "      <th>sampl</th>\n",
       "      <th>test</th>\n",
       "      <th>use</th>\n",
       "      <th>variabl</th>\n",
       "    </tr>\n",
       "  </thead>\n",
       "  <tbody>\n",
       "    <tr>\n",
       "      <th>0</th>\n",
       "      <td>1</td>\n",
       "      <td>0</td>\n",
       "      <td>0</td>\n",
       "      <td>0</td>\n",
       "      <td>0</td>\n",
       "      <td>0</td>\n",
       "      <td>0</td>\n",
       "      <td>1</td>\n",
       "      <td>0</td>\n",
       "    </tr>\n",
       "    <tr>\n",
       "      <th>1</th>\n",
       "      <td>0</td>\n",
       "      <td>0</td>\n",
       "      <td>0</td>\n",
       "      <td>0</td>\n",
       "      <td>0</td>\n",
       "      <td>0</td>\n",
       "      <td>0</td>\n",
       "      <td>0</td>\n",
       "      <td>0</td>\n",
       "    </tr>\n",
       "    <tr>\n",
       "      <th>2</th>\n",
       "      <td>0</td>\n",
       "      <td>0</td>\n",
       "      <td>0</td>\n",
       "      <td>0</td>\n",
       "      <td>1</td>\n",
       "      <td>0</td>\n",
       "      <td>0</td>\n",
       "      <td>0</td>\n",
       "      <td>0</td>\n",
       "    </tr>\n",
       "    <tr>\n",
       "      <th>3</th>\n",
       "      <td>0</td>\n",
       "      <td>0</td>\n",
       "      <td>0</td>\n",
       "      <td>0</td>\n",
       "      <td>0</td>\n",
       "      <td>0</td>\n",
       "      <td>0</td>\n",
       "      <td>0</td>\n",
       "      <td>0</td>\n",
       "    </tr>\n",
       "    <tr>\n",
       "      <th>4</th>\n",
       "      <td>1</td>\n",
       "      <td>1</td>\n",
       "      <td>1</td>\n",
       "      <td>0</td>\n",
       "      <td>0</td>\n",
       "      <td>0</td>\n",
       "      <td>0</td>\n",
       "      <td>0</td>\n",
       "      <td>0</td>\n",
       "    </tr>\n",
       "    <tr>\n",
       "      <th>...</th>\n",
       "      <td>...</td>\n",
       "      <td>...</td>\n",
       "      <td>...</td>\n",
       "      <td>...</td>\n",
       "      <td>...</td>\n",
       "      <td>...</td>\n",
       "      <td>...</td>\n",
       "      <td>...</td>\n",
       "      <td>...</td>\n",
       "    </tr>\n",
       "    <tr>\n",
       "      <th>19242</th>\n",
       "      <td>0</td>\n",
       "      <td>0</td>\n",
       "      <td>0</td>\n",
       "      <td>0</td>\n",
       "      <td>0</td>\n",
       "      <td>0</td>\n",
       "      <td>0</td>\n",
       "      <td>0</td>\n",
       "      <td>0</td>\n",
       "    </tr>\n",
       "    <tr>\n",
       "      <th>19243</th>\n",
       "      <td>0</td>\n",
       "      <td>0</td>\n",
       "      <td>0</td>\n",
       "      <td>0</td>\n",
       "      <td>0</td>\n",
       "      <td>0</td>\n",
       "      <td>0</td>\n",
       "      <td>1</td>\n",
       "      <td>0</td>\n",
       "    </tr>\n",
       "    <tr>\n",
       "      <th>19244</th>\n",
       "      <td>1</td>\n",
       "      <td>0</td>\n",
       "      <td>0</td>\n",
       "      <td>0</td>\n",
       "      <td>0</td>\n",
       "      <td>0</td>\n",
       "      <td>0</td>\n",
       "      <td>0</td>\n",
       "      <td>0</td>\n",
       "    </tr>\n",
       "    <tr>\n",
       "      <th>19245</th>\n",
       "      <td>0</td>\n",
       "      <td>0</td>\n",
       "      <td>0</td>\n",
       "      <td>0</td>\n",
       "      <td>0</td>\n",
       "      <td>0</td>\n",
       "      <td>0</td>\n",
       "      <td>1</td>\n",
       "      <td>1</td>\n",
       "    </tr>\n",
       "    <tr>\n",
       "      <th>19246</th>\n",
       "      <td>0</td>\n",
       "      <td>0</td>\n",
       "      <td>0</td>\n",
       "      <td>0</td>\n",
       "      <td>0</td>\n",
       "      <td>0</td>\n",
       "      <td>1</td>\n",
       "      <td>0</td>\n",
       "      <td>0</td>\n",
       "    </tr>\n",
       "  </tbody>\n",
       "</table>\n",
       "<p>19247 rows × 9 columns</p>\n",
       "</div>"
      ],
      "text/plain": [
       "       data  differ  distribut  model  regress  sampl  test  use  variabl\n",
       "0         1       0          0      0        0      0     0    1        0\n",
       "1         0       0          0      0        0      0     0    0        0\n",
       "2         0       0          0      0        1      0     0    0        0\n",
       "3         0       0          0      0        0      0     0    0        0\n",
       "4         1       1          1      0        0      0     0    0        0\n",
       "...     ...     ...        ...    ...      ...    ...   ...  ...      ...\n",
       "19242     0       0          0      0        0      0     0    0        0\n",
       "19243     0       0          0      0        0      0     0    1        0\n",
       "19244     1       0          0      0        0      0     0    0        0\n",
       "19245     0       0          0      0        0      0     0    1        1\n",
       "19246     0       0          0      0        0      0     1    0        0\n",
       "\n",
       "[19247 rows x 9 columns]"
      ]
     },
     "execution_count": 70,
     "metadata": {},
     "output_type": "execute_result"
    }
   ],
   "source": [
    "dtm_train_title = pd.DataFrame(title_training_sparse_dtm.toarray(), columns=countvec3.get_feature_names(), index=traindata.index)\n",
    "dtm_train_title"
   ]
  },
  {
   "cell_type": "markdown",
   "id": "8dd80325",
   "metadata": {},
   "source": [
    "### (v) Adding _body and _title and _tags to data present in respective categories"
   ]
  },
  {
   "cell_type": "code",
   "execution_count": 71,
   "id": "77ead2e4",
   "metadata": {},
   "outputs": [],
   "source": [
    "dtm_train_body = dtm_train_body.add_suffix('_body')\n",
    "dtm_test_title = dtm_test_title.add_suffix('_title')\n",
    "dtm_test_tags = dtm_test_tags.add_suffix('_tags')\n",
    "dtm_test_body = dtm_test_body.add_suffix('_body')\n",
    "dtm_train_title = dtm_train_title.add_suffix('_title')\n",
    "dtm_train_tags = dtm_train_tags.add_suffix('_tags')"
   ]
  },
  {
   "cell_type": "markdown",
   "id": "3b8388b5",
   "metadata": {},
   "source": [
    "## Combining all DTMs togeht for test and training sets"
   ]
  },
  {
   "cell_type": "code",
   "execution_count": 72,
   "id": "aa07d33d",
   "metadata": {},
   "outputs": [],
   "source": [
    "join1 = dtm_train_body.join(dtm_train_title)\n",
    "final_training_set=join1.join(dtm_train_tags)"
   ]
  },
  {
   "cell_type": "code",
   "execution_count": 73,
   "id": "f0c5b5d9",
   "metadata": {},
   "outputs": [],
   "source": [
    "join2 = dtm_test_body.join(dtm_test_title)\n",
    "final_testing_set=join2.join(dtm_test_tags)"
   ]
  },
  {
   "cell_type": "markdown",
   "id": "06be113d",
   "metadata": {},
   "source": [
    "### Appending the score to each question"
   ]
  },
  {
   "cell_type": "code",
   "execution_count": 74,
   "id": "f27f19de",
   "metadata": {},
   "outputs": [],
   "source": [
    "traindata['UsefulQuestion'] = (traindata['Score'] >= 1).astype('int32').astype('object')"
   ]
  },
  {
   "cell_type": "code",
   "execution_count": 75,
   "id": "e3b4ea1b",
   "metadata": {},
   "outputs": [],
   "source": [
    "testdata['UsefulQuestion'] = (testdata['Score'] >= 1).astype('int32').astype('object')"
   ]
  },
  {
   "cell_type": "code",
   "execution_count": 76,
   "id": "37040aa7",
   "metadata": {},
   "outputs": [],
   "source": [
    "final_training_set['UsefulQuestion']=traindata['UsefulQuestion']"
   ]
  },
  {
   "cell_type": "code",
   "execution_count": 77,
   "id": "434d7237",
   "metadata": {},
   "outputs": [],
   "source": [
    "final_testing_set['UsefulQuestion']=testdata['UsefulQuestion']"
   ]
  },
  {
   "cell_type": "code",
   "execution_count": 78,
   "id": "634ed082",
   "metadata": {},
   "outputs": [
    {
     "data": {
      "text/html": [
       "<div>\n",
       "<style scoped>\n",
       "    .dataframe tbody tr th:only-of-type {\n",
       "        vertical-align: middle;\n",
       "    }\n",
       "\n",
       "    .dataframe tbody tr th {\n",
       "        vertical-align: top;\n",
       "    }\n",
       "\n",
       "    .dataframe thead th {\n",
       "        text-align: right;\n",
       "    }\n",
       "</style>\n",
       "<table border=\"1\" class=\"dataframe\">\n",
       "  <thead>\n",
       "    <tr style=\"text-align: right;\">\n",
       "      <th></th>\n",
       "      <th>abl_body</th>\n",
       "      <th>actual_body</th>\n",
       "      <th>algorithm_body</th>\n",
       "      <th>also_body</th>\n",
       "      <th>analysi_body</th>\n",
       "      <th>anoth_body</th>\n",
       "      <th>answer_body</th>\n",
       "      <th>anyon_body</th>\n",
       "      <th>appli_body</th>\n",
       "      <th>appreci_body</th>\n",
       "      <th>...</th>\n",
       "      <th>neuralnetwork_tags</th>\n",
       "      <th>pca_tags</th>\n",
       "      <th>probabilitydistribut_tags</th>\n",
       "      <th>probabl_tags</th>\n",
       "      <th>regress_tags</th>\n",
       "      <th>rmixedmodellmenlm_tags</th>\n",
       "      <th>rregress_tags</th>\n",
       "      <th>statisticalsignific_tags</th>\n",
       "      <th>timeseri_tags</th>\n",
       "      <th>UsefulQuestion</th>\n",
       "    </tr>\n",
       "  </thead>\n",
       "  <tbody>\n",
       "    <tr>\n",
       "      <th>0</th>\n",
       "      <td>0</td>\n",
       "      <td>0</td>\n",
       "      <td>0</td>\n",
       "      <td>0</td>\n",
       "      <td>0</td>\n",
       "      <td>0</td>\n",
       "      <td>0</td>\n",
       "      <td>0</td>\n",
       "      <td>0</td>\n",
       "      <td>0</td>\n",
       "      <td>...</td>\n",
       "      <td>0</td>\n",
       "      <td>0</td>\n",
       "      <td>0</td>\n",
       "      <td>0</td>\n",
       "      <td>0</td>\n",
       "      <td>0</td>\n",
       "      <td>0</td>\n",
       "      <td>0</td>\n",
       "      <td>0</td>\n",
       "      <td>1</td>\n",
       "    </tr>\n",
       "    <tr>\n",
       "      <th>1</th>\n",
       "      <td>0</td>\n",
       "      <td>0</td>\n",
       "      <td>0</td>\n",
       "      <td>0</td>\n",
       "      <td>0</td>\n",
       "      <td>0</td>\n",
       "      <td>2</td>\n",
       "      <td>0</td>\n",
       "      <td>0</td>\n",
       "      <td>0</td>\n",
       "      <td>...</td>\n",
       "      <td>0</td>\n",
       "      <td>0</td>\n",
       "      <td>0</td>\n",
       "      <td>0</td>\n",
       "      <td>0</td>\n",
       "      <td>0</td>\n",
       "      <td>0</td>\n",
       "      <td>0</td>\n",
       "      <td>0</td>\n",
       "      <td>0</td>\n",
       "    </tr>\n",
       "    <tr>\n",
       "      <th>2</th>\n",
       "      <td>0</td>\n",
       "      <td>0</td>\n",
       "      <td>0</td>\n",
       "      <td>0</td>\n",
       "      <td>0</td>\n",
       "      <td>0</td>\n",
       "      <td>1</td>\n",
       "      <td>0</td>\n",
       "      <td>0</td>\n",
       "      <td>0</td>\n",
       "      <td>...</td>\n",
       "      <td>0</td>\n",
       "      <td>0</td>\n",
       "      <td>0</td>\n",
       "      <td>0</td>\n",
       "      <td>0</td>\n",
       "      <td>0</td>\n",
       "      <td>0</td>\n",
       "      <td>0</td>\n",
       "      <td>0</td>\n",
       "      <td>1</td>\n",
       "    </tr>\n",
       "    <tr>\n",
       "      <th>3</th>\n",
       "      <td>0</td>\n",
       "      <td>0</td>\n",
       "      <td>0</td>\n",
       "      <td>0</td>\n",
       "      <td>0</td>\n",
       "      <td>0</td>\n",
       "      <td>0</td>\n",
       "      <td>0</td>\n",
       "      <td>0</td>\n",
       "      <td>0</td>\n",
       "      <td>...</td>\n",
       "      <td>0</td>\n",
       "      <td>0</td>\n",
       "      <td>0</td>\n",
       "      <td>0</td>\n",
       "      <td>0</td>\n",
       "      <td>0</td>\n",
       "      <td>0</td>\n",
       "      <td>0</td>\n",
       "      <td>0</td>\n",
       "      <td>1</td>\n",
       "    </tr>\n",
       "    <tr>\n",
       "      <th>4</th>\n",
       "      <td>0</td>\n",
       "      <td>0</td>\n",
       "      <td>0</td>\n",
       "      <td>0</td>\n",
       "      <td>0</td>\n",
       "      <td>0</td>\n",
       "      <td>0</td>\n",
       "      <td>0</td>\n",
       "      <td>0</td>\n",
       "      <td>0</td>\n",
       "      <td>...</td>\n",
       "      <td>0</td>\n",
       "      <td>0</td>\n",
       "      <td>0</td>\n",
       "      <td>0</td>\n",
       "      <td>0</td>\n",
       "      <td>0</td>\n",
       "      <td>0</td>\n",
       "      <td>0</td>\n",
       "      <td>0</td>\n",
       "      <td>0</td>\n",
       "    </tr>\n",
       "  </tbody>\n",
       "</table>\n",
       "<p>5 rows × 213 columns</p>\n",
       "</div>"
      ],
      "text/plain": [
       "   abl_body  actual_body  algorithm_body  also_body  analysi_body  anoth_body  \\\n",
       "0         0            0               0          0             0           0   \n",
       "1         0            0               0          0             0           0   \n",
       "2         0            0               0          0             0           0   \n",
       "3         0            0               0          0             0           0   \n",
       "4         0            0               0          0             0           0   \n",
       "\n",
       "   answer_body  anyon_body  appli_body  appreci_body  ...  neuralnetwork_tags  \\\n",
       "0            0           0           0             0  ...                   0   \n",
       "1            2           0           0             0  ...                   0   \n",
       "2            1           0           0             0  ...                   0   \n",
       "3            0           0           0             0  ...                   0   \n",
       "4            0           0           0             0  ...                   0   \n",
       "\n",
       "   pca_tags  probabilitydistribut_tags  probabl_tags  regress_tags  \\\n",
       "0         0                          0             0             0   \n",
       "1         0                          0             0             0   \n",
       "2         0                          0             0             0   \n",
       "3         0                          0             0             0   \n",
       "4         0                          0             0             0   \n",
       "\n",
       "   rmixedmodellmenlm_tags  rregress_tags  statisticalsignific_tags  \\\n",
       "0                       0              0                         0   \n",
       "1                       0              0                         0   \n",
       "2                       0              0                         0   \n",
       "3                       0              0                         0   \n",
       "4                       0              0                         0   \n",
       "\n",
       "   timeseri_tags  UsefulQuestion  \n",
       "0              0               1  \n",
       "1              0               0  \n",
       "2              0               1  \n",
       "3              0               1  \n",
       "4              0               0  \n",
       "\n",
       "[5 rows x 213 columns]"
      ]
     },
     "execution_count": 78,
     "metadata": {},
     "output_type": "execute_result"
    }
   ],
   "source": [
    "final_training_set.head()"
   ]
  },
  {
   "cell_type": "code",
   "execution_count": 79,
   "id": "7c140ce0",
   "metadata": {},
   "outputs": [
    {
     "data": {
      "text/html": [
       "<div>\n",
       "<style scoped>\n",
       "    .dataframe tbody tr th:only-of-type {\n",
       "        vertical-align: middle;\n",
       "    }\n",
       "\n",
       "    .dataframe tbody tr th {\n",
       "        vertical-align: top;\n",
       "    }\n",
       "\n",
       "    .dataframe thead th {\n",
       "        text-align: right;\n",
       "    }\n",
       "</style>\n",
       "<table border=\"1\" class=\"dataframe\">\n",
       "  <thead>\n",
       "    <tr style=\"text-align: right;\">\n",
       "      <th></th>\n",
       "      <th>abl_body</th>\n",
       "      <th>actual_body</th>\n",
       "      <th>algorithm_body</th>\n",
       "      <th>also_body</th>\n",
       "      <th>analysi_body</th>\n",
       "      <th>anoth_body</th>\n",
       "      <th>answer_body</th>\n",
       "      <th>anyon_body</th>\n",
       "      <th>appli_body</th>\n",
       "      <th>appreci_body</th>\n",
       "      <th>...</th>\n",
       "      <th>neuralnetwork_tags</th>\n",
       "      <th>pca_tags</th>\n",
       "      <th>probabilitydistribut_tags</th>\n",
       "      <th>probabl_tags</th>\n",
       "      <th>regress_tags</th>\n",
       "      <th>rmixedmodellmenlm_tags</th>\n",
       "      <th>rregress_tags</th>\n",
       "      <th>statisticalsignific_tags</th>\n",
       "      <th>timeseri_tags</th>\n",
       "      <th>UsefulQuestion</th>\n",
       "    </tr>\n",
       "  </thead>\n",
       "  <tbody>\n",
       "    <tr>\n",
       "      <th>0</th>\n",
       "      <td>0</td>\n",
       "      <td>0</td>\n",
       "      <td>0</td>\n",
       "      <td>0</td>\n",
       "      <td>0</td>\n",
       "      <td>0</td>\n",
       "      <td>0</td>\n",
       "      <td>0</td>\n",
       "      <td>0</td>\n",
       "      <td>0</td>\n",
       "      <td>...</td>\n",
       "      <td>0</td>\n",
       "      <td>0</td>\n",
       "      <td>0</td>\n",
       "      <td>0</td>\n",
       "      <td>0</td>\n",
       "      <td>0</td>\n",
       "      <td>0</td>\n",
       "      <td>0</td>\n",
       "      <td>0</td>\n",
       "      <td>0</td>\n",
       "    </tr>\n",
       "    <tr>\n",
       "      <th>1</th>\n",
       "      <td>0</td>\n",
       "      <td>0</td>\n",
       "      <td>0</td>\n",
       "      <td>0</td>\n",
       "      <td>0</td>\n",
       "      <td>0</td>\n",
       "      <td>1</td>\n",
       "      <td>0</td>\n",
       "      <td>0</td>\n",
       "      <td>0</td>\n",
       "      <td>...</td>\n",
       "      <td>0</td>\n",
       "      <td>0</td>\n",
       "      <td>0</td>\n",
       "      <td>0</td>\n",
       "      <td>0</td>\n",
       "      <td>0</td>\n",
       "      <td>0</td>\n",
       "      <td>0</td>\n",
       "      <td>0</td>\n",
       "      <td>0</td>\n",
       "    </tr>\n",
       "    <tr>\n",
       "      <th>2</th>\n",
       "      <td>0</td>\n",
       "      <td>0</td>\n",
       "      <td>0</td>\n",
       "      <td>0</td>\n",
       "      <td>0</td>\n",
       "      <td>0</td>\n",
       "      <td>0</td>\n",
       "      <td>0</td>\n",
       "      <td>0</td>\n",
       "      <td>0</td>\n",
       "      <td>...</td>\n",
       "      <td>0</td>\n",
       "      <td>0</td>\n",
       "      <td>0</td>\n",
       "      <td>0</td>\n",
       "      <td>0</td>\n",
       "      <td>0</td>\n",
       "      <td>0</td>\n",
       "      <td>0</td>\n",
       "      <td>0</td>\n",
       "      <td>1</td>\n",
       "    </tr>\n",
       "    <tr>\n",
       "      <th>3</th>\n",
       "      <td>0</td>\n",
       "      <td>0</td>\n",
       "      <td>2</td>\n",
       "      <td>0</td>\n",
       "      <td>0</td>\n",
       "      <td>0</td>\n",
       "      <td>0</td>\n",
       "      <td>0</td>\n",
       "      <td>0</td>\n",
       "      <td>0</td>\n",
       "      <td>...</td>\n",
       "      <td>0</td>\n",
       "      <td>0</td>\n",
       "      <td>0</td>\n",
       "      <td>0</td>\n",
       "      <td>0</td>\n",
       "      <td>0</td>\n",
       "      <td>0</td>\n",
       "      <td>0</td>\n",
       "      <td>0</td>\n",
       "      <td>1</td>\n",
       "    </tr>\n",
       "    <tr>\n",
       "      <th>4</th>\n",
       "      <td>0</td>\n",
       "      <td>0</td>\n",
       "      <td>1</td>\n",
       "      <td>0</td>\n",
       "      <td>0</td>\n",
       "      <td>1</td>\n",
       "      <td>0</td>\n",
       "      <td>0</td>\n",
       "      <td>0</td>\n",
       "      <td>0</td>\n",
       "      <td>...</td>\n",
       "      <td>0</td>\n",
       "      <td>0</td>\n",
       "      <td>0</td>\n",
       "      <td>0</td>\n",
       "      <td>0</td>\n",
       "      <td>0</td>\n",
       "      <td>0</td>\n",
       "      <td>0</td>\n",
       "      <td>0</td>\n",
       "      <td>1</td>\n",
       "    </tr>\n",
       "  </tbody>\n",
       "</table>\n",
       "<p>5 rows × 213 columns</p>\n",
       "</div>"
      ],
      "text/plain": [
       "   abl_body  actual_body  algorithm_body  also_body  analysi_body  anoth_body  \\\n",
       "0         0            0               0          0             0           0   \n",
       "1         0            0               0          0             0           0   \n",
       "2         0            0               0          0             0           0   \n",
       "3         0            0               2          0             0           0   \n",
       "4         0            0               1          0             0           1   \n",
       "\n",
       "   answer_body  anyon_body  appli_body  appreci_body  ...  neuralnetwork_tags  \\\n",
       "0            0           0           0             0  ...                   0   \n",
       "1            1           0           0             0  ...                   0   \n",
       "2            0           0           0             0  ...                   0   \n",
       "3            0           0           0             0  ...                   0   \n",
       "4            0           0           0             0  ...                   0   \n",
       "\n",
       "   pca_tags  probabilitydistribut_tags  probabl_tags  regress_tags  \\\n",
       "0         0                          0             0             0   \n",
       "1         0                          0             0             0   \n",
       "2         0                          0             0             0   \n",
       "3         0                          0             0             0   \n",
       "4         0                          0             0             0   \n",
       "\n",
       "   rmixedmodellmenlm_tags  rregress_tags  statisticalsignific_tags  \\\n",
       "0                       0              0                         0   \n",
       "1                       0              0                         0   \n",
       "2                       0              0                         0   \n",
       "3                       0              0                         0   \n",
       "4                       0              0                         0   \n",
       "\n",
       "   timeseri_tags  UsefulQuestion  \n",
       "0              0               0  \n",
       "1              0               0  \n",
       "2              0               1  \n",
       "3              0               1  \n",
       "4              0               1  \n",
       "\n",
       "[5 rows x 213 columns]"
      ]
     },
     "execution_count": 79,
     "metadata": {},
     "output_type": "execute_result"
    }
   ],
   "source": [
    "final_testing_set.head()"
   ]
  },
  {
   "cell_type": "code",
   "execution_count": 80,
   "id": "7217f172",
   "metadata": {},
   "outputs": [
    {
     "data": {
      "text/plain": [
       "Index(['abl_body', 'actual_body', 'algorithm_body', 'also_body',\n",
       "       'analysi_body', 'anoth_body', 'answer_body', 'anyon_body', 'appli_body',\n",
       "       'appreci_body',\n",
       "       ...\n",
       "       'machinelearningneuralnetwork_tags', 'neuralnetwork_tags', 'pca_tags',\n",
       "       'probabilitydistribut_tags', 'probabl_tags', 'regress_tags',\n",
       "       'rmixedmodellmenlm_tags', 'rregress_tags', 'statisticalsignific_tags',\n",
       "       'timeseri_tags'],\n",
       "      dtype='object', length=212)"
      ]
     },
     "execution_count": 80,
     "metadata": {},
     "output_type": "execute_result"
    }
   ],
   "source": [
    "final_training_set.columns[0:212]"
   ]
  },
  {
   "cell_type": "markdown",
   "id": "6a8b6081",
   "metadata": {},
   "source": [
    "### b) Building models with Logistic Regression, LDA, and CART"
   ]
  },
  {
   "cell_type": "markdown",
   "id": "d13a19a3",
   "metadata": {},
   "source": [
    "### Defining training and test sets to model Rgeression, LDA and CART"
   ]
  },
  {
   "cell_type": "code",
   "execution_count": 81,
   "id": "a17dbd7a",
   "metadata": {},
   "outputs": [],
   "source": [
    "feature_cols = final_training_set.columns[0:212]\n",
    "x_train = final_training_set[feature_cols]\n",
    "#x_test = final_testing_set[final_testing_set.columns[0:212]]\n",
    "x_test = final_testing_set[feature_cols]\n",
    "y_train = final_training_set['UsefulQuestion']\n",
    "y_test = final_testing_set['UsefulQuestion']\n",
    "y_test = y_test.astype('int')\n",
    "y_train = y_train.astype('int')\n",
    "\n",
    "#x_train=x_train.to_numpy().astype('int32')\n",
    "#y_train=y_train.to_numpy().astype('int32')"
   ]
  },
  {
   "cell_type": "code",
   "execution_count": 82,
   "id": "b389531c",
   "metadata": {},
   "outputs": [
    {
     "name": "stdout",
     "output_type": "stream",
     "text": [
      "(19247, 212)\n",
      "(8249, 212)\n",
      "(19247,)\n",
      "(8249,)\n"
     ]
    }
   ],
   "source": [
    "print(x_train.shape)\n",
    "print(x_test.shape)\n",
    "print(y_train.shape)\n",
    "print(y_test.shape)"
   ]
  },
  {
   "cell_type": "markdown",
   "id": "568f48e6",
   "metadata": {},
   "source": [
    "## Logistic Regression"
   ]
  },
  {
   "cell_type": "code",
   "execution_count": 83,
   "id": "9bd888c7",
   "metadata": {},
   "outputs": [
    {
     "name": "stderr",
     "output_type": "stream",
     "text": [
      "C:\\Users\\anmol\\anaconda3\\lib\\site-packages\\sklearn\\linear_model\\_logistic.py:814: ConvergenceWarning: lbfgs failed to converge (status=1):\n",
      "STOP: TOTAL NO. of ITERATIONS REACHED LIMIT.\n",
      "\n",
      "Increase the number of iterations (max_iter) or scale the data as shown in:\n",
      "    https://scikit-learn.org/stable/modules/preprocessing.html\n",
      "Please also refer to the documentation for alternative solver options:\n",
      "    https://scikit-learn.org/stable/modules/linear_model.html#logistic-regression\n",
      "  n_iter_i = _check_optimize_result(\n"
     ]
    },
    {
     "data": {
      "text/plain": [
       "LogisticRegression(random_state=88)"
      ]
     },
     "execution_count": 83,
     "metadata": {},
     "output_type": "execute_result"
    }
   ],
   "source": [
    "from sklearn.linear_model import LogisticRegression\n",
    "\n",
    "logreg = LogisticRegression(random_state=88)\n",
    "logreg.fit(x_train, y_train)"
   ]
  },
  {
   "cell_type": "code",
   "execution_count": 84,
   "id": "864ce231",
   "metadata": {},
   "outputs": [
    {
     "name": "stdout",
     "output_type": "stream",
     "text": [
      "Confusion Matrix: \n",
      " [[2629 1597]\n",
      " [2002 2021]]\n",
      "\n",
      "Accuracy: 0.5637046914777549\n"
     ]
    }
   ],
   "source": [
    "from sklearn.metrics import confusion_matrix\n",
    "from sklearn.metrics import accuracy_score\n",
    "y_prob = logreg.predict_proba(x_test)\n",
    "y_pred = pd.Series([1 if x > 0.5 else 0 for x in y_prob[:,1]], index=y_test.index)\n",
    "\n",
    "cm = confusion_matrix(y_test, y_pred)\n",
    "print (\"Confusion Matrix: \\n\", cm)\n",
    "print (\"\\nAccuracy:\", accuracy_score(y_test, y_pred))"
   ]
  },
  {
   "cell_type": "markdown",
   "id": "eb7ddfb2",
   "metadata": {},
   "source": [
    "### LDA"
   ]
  },
  {
   "cell_type": "code",
   "execution_count": 85,
   "id": "f939366f",
   "metadata": {},
   "outputs": [
    {
     "data": {
      "text/plain": [
       "LinearDiscriminantAnalysis()"
      ]
     },
     "execution_count": 85,
     "metadata": {},
     "output_type": "execute_result"
    }
   ],
   "source": [
    "from sklearn.discriminant_analysis import LinearDiscriminantAnalysis\n",
    "\n",
    "lda = LinearDiscriminantAnalysis()\n",
    "lda.fit(x_train, y_train)"
   ]
  },
  {
   "cell_type": "code",
   "execution_count": 86,
   "id": "8100edae",
   "metadata": {},
   "outputs": [],
   "source": [
    "y_pred_lda = lda.predict(x_test)"
   ]
  },
  {
   "cell_type": "code",
   "execution_count": 87,
   "id": "b6ffbd56",
   "metadata": {},
   "outputs": [],
   "source": [
    "from sklearn.metrics import confusion_matrix\n",
    "lda_confusion = confusion_matrix(y_test, y_pred_lda).ravel()"
   ]
  },
  {
   "cell_type": "code",
   "execution_count": 88,
   "id": "4f519610",
   "metadata": {},
   "outputs": [
    {
     "data": {
      "text/plain": [
       "0.5627348769547824"
      ]
     },
     "execution_count": 88,
     "metadata": {},
     "output_type": "execute_result"
    }
   ],
   "source": [
    "accuracy_score(y_test, y_pred_lda)"
   ]
  },
  {
   "cell_type": "markdown",
   "id": "24234313",
   "metadata": {},
   "source": [
    "### CART"
   ]
  },
  {
   "cell_type": "code",
   "execution_count": 89,
   "id": "77ccf104",
   "metadata": {},
   "outputs": [],
   "source": [
    "#cart\n",
    "from sklearn.metrics import make_scorer\n",
    "from sklearn.tree import DecisionTreeClassifier\n",
    "from sklearn.model_selection import GridSearchCV\n",
    "import numpy as np"
   ]
  },
  {
   "cell_type": "code",
   "execution_count": 90,
   "id": "d4093ed1",
   "metadata": {},
   "outputs": [
    {
     "name": "stdout",
     "output_type": "stream",
     "text": [
      "Fitting 10 folds for each of 10 candidates, totalling 100 fits\n"
     ]
    },
    {
     "data": {
      "text/plain": [
       "GridSearchCV(cv=10, estimator=DecisionTreeClassifier(),\n",
       "             param_grid={'ccp_alpha': array([0.        , 0.00022222, 0.00044444, 0.00066667, 0.00088889,\n",
       "       0.00111111, 0.00133333, 0.00155556, 0.00177778, 0.002     ]),\n",
       "                         'max_depth': [20], 'min_samples_leaf': [5],\n",
       "                         'min_samples_split': [20], 'random_state': [88]},\n",
       "             scoring='accuracy', verbose=1)"
      ]
     },
     "execution_count": 90,
     "metadata": {},
     "output_type": "execute_result"
    }
   ],
   "source": [
    "#cross-validation to get the optimal ccp alpha\n",
    "#fits reduced from 2010 (demonstrated in lab) to 110 & max_depth from 30 to 20 for sake of time\n",
    "\n",
    "\n",
    "grid_values = {'ccp_alpha':np.linspace(0, 0.002, 10),\n",
    "               'min_samples_leaf': [5],\n",
    "               'min_samples_split': [20],\n",
    "               'max_depth': [20],\n",
    "               'random_state': [88]}\n",
    "\n",
    "dtc = DecisionTreeClassifier()\n",
    "dtc_cv_acc = GridSearchCV(dtc, param_grid = grid_values, cv = 10, verbose = 1, scoring = 'accuracy')\n",
    "dtc_cv_acc.fit(x_train, y_train)\n"
   ]
  },
  {
   "cell_type": "code",
   "execution_count": 91,
   "id": "3b978bc1",
   "metadata": {},
   "outputs": [
    {
     "name": "stdout",
     "output_type": "stream",
     "text": [
      "Best ccp_alpha {'ccp_alpha': 0.00022222222222222223, 'max_depth': 20, 'min_samples_leaf': 5, 'min_samples_split': 20, 'random_state': 88}\n"
     ]
    }
   ],
   "source": [
    "print('Best ccp_alpha', dtc_cv_acc.best_params_)"
   ]
  },
  {
   "cell_type": "code",
   "execution_count": 92,
   "id": "c4143574",
   "metadata": {},
   "outputs": [],
   "source": [
    "y_pred_cart = dtc_cv_acc.predict(x_test)"
   ]
  },
  {
   "cell_type": "markdown",
   "id": "f7026fd9",
   "metadata": {},
   "source": [
    "### Bootstrapping"
   ]
  },
  {
   "cell_type": "code",
   "execution_count": 93,
   "id": "676306b0",
   "metadata": {},
   "outputs": [],
   "source": [
    "#create function for the metric I am using (TPR)\n",
    "def tpr(predictions):\n",
    "    cm= confusion_matrix(y_test, predictions)\n",
    "    tn=cm[0,0]\n",
    "    fn=cm[1,0]\n",
    "    fp=cm[0,1]\n",
    "    tp=cm[1,1]\n",
    "    return tp/(tp + fn)\n",
    "\n",
    "def fpr(predictions):\n",
    "    cm = confusion_matrix(y_test, predictions)\n",
    "    tn=cm[0,0]\n",
    "    fn=cm[1,0]\n",
    "    fp=cm[0,1]\n",
    "    tp=cm[1,1]\n",
    "    return fp/(fp + tn)\n",
    "\n",
    "def acc(predictions):\n",
    "    cm = confusion_matrix(y_test, predictions)\n",
    "    tn=cm[0,0]\n",
    "    fn=cm[1,0]\n",
    "    fp=cm[0,1]\n",
    "    tp=cm[1,1]\n",
    "    return (tp+tn)/(tp+fp+tn+fn)"
   ]
  },
  {
   "cell_type": "code",
   "execution_count": 94,
   "id": "2ad0e022",
   "metadata": {},
   "outputs": [],
   "source": [
    "import time\n",
    "\n",
    "def bootstrap_validation(test_data, test_label, train_label, model, metrics_list, sample=500, random_state=66):\n",
    "    tic = time.time()\n",
    "    n_sample = sample\n",
    "    n_metrics = len(metrics_list)\n",
    "    output_array=np.zeros([n_sample, n_metrics])\n",
    "    output_array[:]=np.nan\n",
    "    print(output_array.shape)\n",
    "    for bs_iter in range(n_sample):\n",
    "        bs_index = np.random.choice(test_data.index, len(test_data.index), replace=True)\n",
    "        bs_data = test_data.loc[bs_index]\n",
    "        bs_label = test_label.loc[bs_index]\n",
    "        bs_predicted = model.predict(bs_data)\n",
    "        for metrics_iter in range(n_metrics):\n",
    "            metrics = metrics_list[metrics_iter]\n",
    "            output_array[bs_iter, metrics_iter]=metrics(bs_predicted)\n",
    "#         if bs_iter % 100 == 0:\n",
    "#             print(bs_iter, time.time()-tic)\n",
    "    output_df = pd.DataFrame(output_array)\n",
    "    return output_df"
   ]
  },
  {
   "cell_type": "code",
   "execution_count": 95,
   "id": "b8a29c8f",
   "metadata": {},
   "outputs": [
    {
     "name": "stdout",
     "output_type": "stream",
     "text": [
      "(5000, 3)\n"
     ]
    }
   ],
   "source": [
    "bs_output = bootstrap_validation(x_test,y_test,y_train,logreg, metrics_list=[tpr,fpr,acc],sample = 5000)"
   ]
  },
  {
   "cell_type": "code",
   "execution_count": 96,
   "id": "d008c5c7",
   "metadata": {},
   "outputs": [
    {
     "name": "stdout",
     "output_type": "stream",
     "text": [
      "True positive for Logisitic regression is 0.502361421824509\n",
      "False positive for Logisitic regression is 0.37789872219592996\n",
      "Accuracy for Logisitic regression is 0.5637046914777549\n"
     ]
    }
   ],
   "source": [
    "print(\"True positive for Logisitic regression is\",tpr(y_pred) )\n",
    "print(\"False positive for Logisitic regression is\",fpr(y_pred) )\n",
    "print(\"Accuracy for Logisitic regression is\",acc(y_pred) )"
   ]
  },
  {
   "cell_type": "code",
   "execution_count": 97,
   "id": "bb71ba15",
   "metadata": {},
   "outputs": [
    {
     "name": "stdout",
     "output_type": "stream",
     "text": [
      "True positive for LDA is 0.49913000248570716\n",
      "False positive for LDA is 0.37671557027922387\n",
      "Accuracy for LDA is 0.5627348769547824\n"
     ]
    }
   ],
   "source": [
    "print(\"True positive for LDA is\",tpr(y_pred_lda) )\n",
    "print(\"False positive for LDA is\",fpr(y_pred_lda) )\n",
    "print(\"Accuracy for LDA is\",acc(y_pred_lda))"
   ]
  },
  {
   "cell_type": "code",
   "execution_count": 98,
   "id": "ca63dbe9",
   "metadata": {},
   "outputs": [
    {
     "name": "stdout",
     "output_type": "stream",
     "text": [
      "True positive for CART is 0.49589858314690527\n",
      "False positive for CART is 0.41362991008045435\n",
      "Accuracy for CART is 0.5422475451569887\n"
     ]
    }
   ],
   "source": [
    "print(\"True positive for CART is\",tpr(y_pred_cart) )\n",
    "print(\"False positive for CART is\",fpr(y_pred_cart) )\n",
    "print(\"Accuracy for CART is\",acc(y_pred_cart))"
   ]
  },
  {
   "cell_type": "markdown",
   "id": "3ee2f68a",
   "metadata": {},
   "source": [
    "#### From the above results of TPR, FPR and Accuracy for  Logistic Regression, LDA and CART respectively, it can be observed that in that Logistic  regression has good combination of TPR, FPR and Accuracy values. Hence the best model is the Logistic Regression and in the following section we will perform boostrapping on it. Here we use TPR and FPR as the key metrics to determine which model is performing the best."
   ]
  },
  {
   "cell_type": "code",
   "execution_count": 119,
   "id": "9f192182",
   "metadata": {},
   "outputs": [
    {
     "data": {
      "text/plain": [
       "(array([  3.,  10.,  23.,  52., 121., 175., 370., 507., 632., 795., 721.,\n",
       "        554., 430., 309., 163.,  78.,  40.,  13.,   2.,   2.]),\n",
       " array([-0.09197117, -0.08907532, -0.08617947, -0.08328362, -0.08038777,\n",
       "        -0.07749192, -0.07459607, -0.07170022, -0.06880437, -0.06590853,\n",
       "        -0.06301268, -0.06011683, -0.05722098, -0.05432513, -0.05142928,\n",
       "        -0.04853343, -0.04563758, -0.04274174, -0.03984589, -0.03695004,\n",
       "        -0.03405419]),\n",
       " <BarContainer object of 20 artists>)"
      ]
     },
     "execution_count": 119,
     "metadata": {},
     "output_type": "execute_result"
    },
    {
     "data": {
      "image/png": "[encoded data removed]",
      "text/plain": [
       "<Figure size 864x360 with 2 Axes>"
      ]
     },
     "metadata": {
      "needs_background": "light"
     },
     "output_type": "display_data"
    }
   ],
   "source": [
    "import matplotlib.pyplot as plt\n",
    "true_positive = tpr(y_pred)\n",
    "\n",
    "fig, axs = plt.subplots(ncols=2, figsize=(12,5))\n",
    "axs[0].set_xlabel('Bootstrap TPR Estimate', fontsize=16)\n",
    "axs[1].set_xlabel('Boot TPR - Test Set TPR', fontsize=16)\n",
    "axs[0].set_ylabel('Count', fontsize=16)\n",
    "axs[0].hist(bs_output.iloc[:,0], bins=20,edgecolor='green', linewidth=2,color = \"grey\")\n",
    "#axs[0].set_xlim([0.4,0.7])\n",
    "axs[1].hist(bs_output.iloc[:,0]-true_positive, bins=20,edgecolor='green', linewidth=2,color = \"grey\")\n",
    "#axs[1].set_xlim([-0.15,0.15])"
   ]
  },
  {
   "cell_type": "code",
   "execution_count": 108,
   "id": "40ff83f2",
   "metadata": {},
   "outputs": [
    {
     "data": {
      "text/plain": [
       "(array([  3.,  11.,  29.,  65., 129., 254., 375., 574., 642., 779., 684.,\n",
       "        563., 423., 231., 113.,  75.,  30.,  15.,   2.,   3.]),\n",
       " array([0.03336488, 0.03622811, 0.03909134, 0.04195457, 0.04481779,\n",
       "        0.04768102, 0.05054425, 0.05340748, 0.05627071, 0.05913393,\n",
       "        0.06199716, 0.06486039, 0.06772362, 0.07058684, 0.07345007,\n",
       "        0.0763133 , 0.07917653, 0.08203975, 0.08490298, 0.08776621,\n",
       "        0.09062944]),\n",
       " <BarContainer object of 20 artists>)"
      ]
     },
     "execution_count": 108,
     "metadata": {},
     "output_type": "execute_result"
    },
    {
     "data": {
      "image/png": "[encoded data removed]",
      "text/plain": [
       "<Figure size 864x360 with 2 Axes>"
      ]
     },
     "metadata": {
      "needs_background": "light"
     },
     "output_type": "display_data"
    }
   ],
   "source": [
    "import matplotlib.pyplot as plt\n",
    "false_positive = fpr(y_pred)\n",
    "\n",
    "fig, axs = plt.subplots(ncols=2, figsize=(12,5))\n",
    "axs[0].set_xlabel('Bootstrap FPR Estimate', fontsize=16)\n",
    "axs[1].set_xlabel('Boot FPR - Test Set FPR', fontsize=16)\n",
    "axs[0].set_ylabel('Count', fontsize=16)\n",
    "axs[0].hist(bs_output.iloc[:,1], bins=20,edgecolor='green', linewidth=2,color = \"grey\")\n",
    "#axs[0].set_xlim([0.4,0.7])\n",
    "axs[1].hist(bs_output.iloc[:,1]-false_positive, bins=20,edgecolor='green', linewidth=2,color = \"grey\")\n",
    "#axs[1].set_xlim([-0.15,0.15])"
   ]
  },
  {
   "cell_type": "code",
   "execution_count": 109,
   "id": "58148443",
   "metadata": {},
   "outputs": [
    {
     "data": {
      "text/plain": [
       "(array([  3.,   4.,  24.,  52.,  96., 141., 287., 380., 620., 633., 651.,\n",
       "        660., 509., 403., 245., 148.,  70.,  46.,  19.,   9.]),\n",
       " array([-0.08158565, -0.07971269, -0.07783974, -0.07596678, -0.07409383,\n",
       "        -0.07222088, -0.07034792, -0.06847497, -0.06660201, -0.06472906,\n",
       "        -0.0628561 , -0.06098315, -0.0591102 , -0.05723724, -0.05536429,\n",
       "        -0.05349133, -0.05161838, -0.04974542, -0.04787247, -0.04599952,\n",
       "        -0.04412656]),\n",
       " <BarContainer object of 20 artists>)"
      ]
     },
     "execution_count": 109,
     "metadata": {},
     "output_type": "execute_result"
    },
    {
     "data": {
      "image/png": "[encoded data removed]",
      "text/plain": [
       "<Figure size 864x360 with 2 Axes>"
      ]
     },
     "metadata": {
      "needs_background": "light"
     },
     "output_type": "display_data"
    }
   ],
   "source": [
    "import matplotlib.pyplot as plt\n",
    "accur = acc(y_pred)\n",
    "\n",
    "fig, axs = plt.subplots(ncols=2, figsize=(12,5))\n",
    "axs[0].set_xlabel('Bootstrap Accuracy Estimate', fontsize=16)\n",
    "axs[1].set_xlabel('Boot Accuracy - Test Set Accuracy', fontsize=16)\n",
    "axs[0].set_ylabel('Count', fontsize=16)\n",
    "axs[0].hist(bs_output.iloc[:,2], bins=20,edgecolor='green', linewidth=2,color = \"grey\")\n",
    "#axs[0].set_xlim([0.4,0.7])\n",
    "axs[1].hist(bs_output.iloc[:,2]-accur, bins=20,edgecolor='green', linewidth=2,color = \"grey\")\n",
    "#axs[1].set_xlim([-0.15,0.15])"
   ]
  },
  {
   "cell_type": "code",
   "execution_count": 102,
   "id": "501b9c42",
   "metadata": {},
   "outputs": [
    {
     "name": "stdout",
     "output_type": "stream",
     "text": [
      "The 95-percent confidence interval of Accuracy is [0.56370469 0.56370469]\n"
     ]
    }
   ],
   "source": [
    "# The 95% confidence interval\n",
    "#CI= np.quantile(bs_output.iloc[:,0]-accur,np.array([0.025,0.975]))\n",
    "CI= np.quantile(accur,np.array([0.025,0.975]))\n",
    "print(\"The 95-percent confidence interval of Accuracy is %s\" % CI)"
   ]
  },
  {
   "cell_type": "code",
   "execution_count": 118,
   "id": "6f0cdc2a",
   "metadata": {},
   "outputs": [
    {
     "data": {
      "text/plain": [
       "(array([  3.,   4.,  24.,  52.,  96., 141., 287., 380., 620., 633., 651.,\n",
       "        660., 509., 403., 245., 148.,  70.,  46.,  19.,   9.]),\n",
       " array([-0.08158565, -0.07971269, -0.07783974, -0.07596678, -0.07409383,\n",
       "        -0.07222088, -0.07034792, -0.06847497, -0.06660201, -0.06472906,\n",
       "        -0.0628561 , -0.06098315, -0.0591102 , -0.05723724, -0.05536429,\n",
       "        -0.05349133, -0.05161838, -0.04974542, -0.04787247, -0.04599952,\n",
       "        -0.04412656]),\n",
       " <BarContainer object of 20 artists>)"
      ]
     },
     "execution_count": 118,
     "metadata": {},
     "output_type": "execute_result"
    },
    {
     "data": {
      "image/png": "[encoded data removed]",
      "text/plain": [
       "<Figure size 576x432 with 1 Axes>"
      ]
     },
     "metadata": {
      "needs_background": "light"
     },
     "output_type": "display_data"
    }
   ],
   "source": [
    "fig, axs = plt.subplots(ncols=1, figsize=(8,6))\n",
    "axs.set_xlabel('Boot accuracy - Test Set accuracy', fontsize=16)\n",
    "axs.set_ylabel('Count', fontsize=16)\n",
    "axs.hist(bs_output.iloc[:,2]-accur, bins=20,edgecolor='green', linewidth=2,color = \"grey\")\n",
    "#axs.set_xlim([-0.15,0.15])\n",
    "#axs.vlines(x=CI[0], ymin = 0, ymax =800, color = \"black\")\n",
    "#axs.vlines(x=CI[1], ymin = 0, ymax =800, color = \"black\")"
   ]
  },
  {
   "cell_type": "code",
   "execution_count": 104,
   "id": "bed25a8f",
   "metadata": {},
   "outputs": [
    {
     "name": "stdout",
     "output_type": "stream",
     "text": [
      "The 95-percent confidence interval of True Positive Rate is [-0.07904549 -0.04846508]\n"
     ]
    }
   ],
   "source": [
    "# The 95% confidence interval\n",
    "CI= np.quantile(bs_output.iloc[:,0]-true_positive,np.array([0.025,0.975]))\n",
    "print(\"The 95-percent confidence interval of True Positive Rate is %s\" % CI)"
   ]
  },
  {
   "cell_type": "code",
   "execution_count": 105,
   "id": "1cdfa5f2",
   "metadata": {},
   "outputs": [
    {
     "data": {
      "text/plain": [
       "<matplotlib.collections.LineCollection at 0x25b414d70a0>"
      ]
     },
     "execution_count": 105,
     "metadata": {},
     "output_type": "execute_result"
    },
    {
     "data": {
      "image/png": "[encoded data removed]",
      "text/plain": [
       "<Figure size 576x432 with 1 Axes>"
      ]
     },
     "metadata": {
      "needs_background": "light"
     },
     "output_type": "display_data"
    }
   ],
   "source": [
    "fig, axs = plt.subplots(ncols=1, figsize=(8,6))\n",
    "axs.set_xlabel('Boot TPR - Test Set TPR', fontsize=16)\n",
    "axs.set_ylabel('Count', fontsize=16)\n",
    "axs.hist(bs_output.iloc[:,0]-true_positive, bins=20,edgecolor='green', linewidth=2,color = \"grey\")\n",
    "#axs.set_xlim([-0.15,0.15])\n",
    "axs.vlines(x=CI[0], ymin = 0, ymax =800, color = \"black\")\n",
    "axs.vlines(x=CI[1], ymin = 0, ymax =800, color = \"black\")"
   ]
  },
  {
   "cell_type": "code",
   "execution_count": 106,
   "id": "ead0a1bd",
   "metadata": {},
   "outputs": [
    {
     "name": "stdout",
     "output_type": "stream",
     "text": [
      "The 95-percent confidence interval of True Positive Rate is [0.04541721 0.07599762]\n"
     ]
    }
   ],
   "source": [
    "# The 95% confidence interval\n",
    "CI= np.quantile(bs_output.iloc[:,0]-false_positive,np.array([0.025,0.975]))\n",
    "print(\"The 95-percent confidence interval of True Positive Rate is %s\" % CI)"
   ]
  },
  {
   "cell_type": "code",
   "execution_count": 120,
   "id": "43d220e2",
   "metadata": {},
   "outputs": [
    {
     "data": {
      "text/plain": [
       "<matplotlib.collections.LineCollection at 0x25b45f09e50>"
      ]
     },
     "execution_count": 120,
     "metadata": {},
     "output_type": "execute_result"
    },
    {
     "data": {
      "image/png": "[encoded data removed]",
      "text/plain": [
       "<Figure size 576x432 with 1 Axes>"
      ]
     },
     "metadata": {
      "needs_background": "light"
     },
     "output_type": "display_data"
    }
   ],
   "source": [
    "fig, axs = plt.subplots(ncols=1, figsize=(8,6))\n",
    "axs.set_xlabel('Boot FPR - Test Set FPR', fontsize=16)\n",
    "axs.set_ylabel('Count', fontsize=16)\n",
    "axs.hist(bs_output.iloc[:,1]-false_positive, bins=20,edgecolor='green', linewidth=2,color = \"grey\")\n",
    "#axs.set_xlim([-0.15,0.15])\n",
    "axs.vlines(x=CI[0], ymin = 0, ymax =800, color = \"black\")\n",
    "axs.vlines(x=CI[1], ymin = 0, ymax =800, color = \"black\")"
   ]
  },
  {
   "cell_type": "code",
   "execution_count": null,
   "id": "bf48feae",
   "metadata": {},
   "outputs": [],
   "source": []
  }
 ],
 "metadata": {
  "kernelspec": {
   "display_name": "Python 3 (ipykernel)",
   "language": "python",
   "name": "python3"
  },
  "language_info": {
   "codemirror_mode": {
    "name": "ipython",
    "version": 3
   },
   "file_extension": ".py",
   "mimetype": "text/x-python",
   "name": "python",
   "nbconvert_exporter": "python",
   "pygments_lexer": "ipython3",
   "version": "3.9.12"
  }
 },
 "nbformat": 4,
 "nbformat_minor": 5
}
